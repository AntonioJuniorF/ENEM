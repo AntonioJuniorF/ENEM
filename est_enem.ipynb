{
 "cells": [
  {
   "cell_type": "markdown",
   "metadata": {
    "id": "60cdLan12zT2"
   },
   "source": [
    " # Desafio\n",
    "\n",
    "* Estimar quanto uma pessoa vai tirar na prova de matemática do enem.\n",
    "* Métrica utilizada R² \n",
    "\n",
    "\n",
    "\n"
   ]
  },
  {
   "cell_type": "markdown",
   "metadata": {},
   "source": [
    "# Dataset.\n",
    "- Foi disponibilizado dois bancos de dados pela Codenation, sendo que um deles é para ser utilizado como dados de treinamento e outro para teste.\n",
    "- Nos dados de teste não foram oferecidos os dados do Target.\n",
    "- Os dados para submeter no desafio são o ID dos alunos (número de inscrição) e as notas de matemática estimadas.\n",
    "\n",
    "\n",
    "\n"
   ]
  },
  {
   "cell_type": "markdown",
   "metadata": {
    "id": "2n2RVk4F2zdQ"
   },
   "source": [
    "# Importando bibliotecas"
   ]
  },
  {
   "cell_type": "code",
   "execution_count": 1,
   "metadata": {
    "colab": {
     "base_uri": "https://localhost:8080/"
    },
    "id": "HDilJu-a29jD",
    "outputId": "924a7bf0-95cb-4333-9e36-bac893023ecb"
   },
   "outputs": [],
   "source": [
    "import numpy as np\n",
    "import pandas as pd\n",
    "from sklearn import metrics\n",
    "#from google.colab import drive\n",
    "import matplotlib.pyplot as plt\n",
    "import seaborn as sns\n",
    "#drive.mount('/content/drive')"
   ]
  },
  {
   "cell_type": "markdown",
   "metadata": {
    "id": "WAkH7mV_BYUT"
   },
   "source": [
    "# Importando os dados"
   ]
  },
  {
   "cell_type": "code",
   "execution_count": 2,
   "metadata": {
    "id": "6euZ4ZBeBKkI"
   },
   "outputs": [],
   "source": [
    "df_train = pd.read_csv('testfiles/train.csv') # banco de treinamento\n",
    "df_test  = pd.read_csv('testfiles/test.csv')  # banco de teste"
   ]
  },
  {
   "cell_type": "markdown",
   "metadata": {
    "id": "S5pIZtdfKXkp"
   },
   "source": [
    "### Conhecendo os datasets"
   ]
  },
  {
   "cell_type": "code",
   "execution_count": 3,
   "metadata": {
    "colab": {
     "base_uri": "https://localhost:8080/",
     "height": 273
    },
    "id": "22WrmnLiJwmV",
    "outputId": "c57b9206-8b60-4dd5-abb8-d1cac1542565"
   },
   "outputs": [
    {
     "data": {
      "text/html": [
       "<div>\n",
       "<style scoped>\n",
       "    .dataframe tbody tr th:only-of-type {\n",
       "        vertical-align: middle;\n",
       "    }\n",
       "\n",
       "    .dataframe tbody tr th {\n",
       "        vertical-align: top;\n",
       "    }\n",
       "\n",
       "    .dataframe thead th {\n",
       "        text-align: right;\n",
       "    }\n",
       "</style>\n",
       "<table border=\"1\" class=\"dataframe\">\n",
       "  <thead>\n",
       "    <tr style=\"text-align: right;\">\n",
       "      <th></th>\n",
       "      <th>Unnamed: 0</th>\n",
       "      <th>NU_INSCRICAO</th>\n",
       "      <th>NU_ANO</th>\n",
       "      <th>CO_MUNICIPIO_RESIDENCIA</th>\n",
       "      <th>NO_MUNICIPIO_RESIDENCIA</th>\n",
       "      <th>CO_UF_RESIDENCIA</th>\n",
       "      <th>SG_UF_RESIDENCIA</th>\n",
       "      <th>NU_IDADE</th>\n",
       "      <th>TP_SEXO</th>\n",
       "      <th>TP_ESTADO_CIVIL</th>\n",
       "      <th>...</th>\n",
       "      <th>Q041</th>\n",
       "      <th>Q042</th>\n",
       "      <th>Q043</th>\n",
       "      <th>Q044</th>\n",
       "      <th>Q045</th>\n",
       "      <th>Q046</th>\n",
       "      <th>Q047</th>\n",
       "      <th>Q048</th>\n",
       "      <th>Q049</th>\n",
       "      <th>Q050</th>\n",
       "    </tr>\n",
       "  </thead>\n",
       "  <tbody>\n",
       "    <tr>\n",
       "      <th>0</th>\n",
       "      <td>1</td>\n",
       "      <td>ed50e8aaa58e7a806c337585efee9ca41f1eb1ad</td>\n",
       "      <td>2016</td>\n",
       "      <td>4314902</td>\n",
       "      <td>Porto Alegre</td>\n",
       "      <td>43</td>\n",
       "      <td>RS</td>\n",
       "      <td>24</td>\n",
       "      <td>M</td>\n",
       "      <td>0.0</td>\n",
       "      <td>...</td>\n",
       "      <td>5.0</td>\n",
       "      <td>A</td>\n",
       "      <td>A</td>\n",
       "      <td>A</td>\n",
       "      <td>A</td>\n",
       "      <td>A</td>\n",
       "      <td>A</td>\n",
       "      <td>A</td>\n",
       "      <td>B</td>\n",
       "      <td>D</td>\n",
       "    </tr>\n",
       "    <tr>\n",
       "      <th>1</th>\n",
       "      <td>2</td>\n",
       "      <td>2c3acac4b33ec2b195d77e7c04a2d75727fad723</td>\n",
       "      <td>2016</td>\n",
       "      <td>2304707</td>\n",
       "      <td>Granja</td>\n",
       "      <td>23</td>\n",
       "      <td>CE</td>\n",
       "      <td>17</td>\n",
       "      <td>F</td>\n",
       "      <td>0.0</td>\n",
       "      <td>...</td>\n",
       "      <td>NaN</td>\n",
       "      <td>A</td>\n",
       "      <td>A</td>\n",
       "      <td>C</td>\n",
       "      <td>A</td>\n",
       "      <td>B</td>\n",
       "      <td>A</td>\n",
       "      <td>A</td>\n",
       "      <td>C</td>\n",
       "      <td>A</td>\n",
       "    </tr>\n",
       "    <tr>\n",
       "      <th>2</th>\n",
       "      <td>3</td>\n",
       "      <td>f4545f8ccb9ff5c8aad7d32951b3f251a26e6568</td>\n",
       "      <td>2016</td>\n",
       "      <td>2304400</td>\n",
       "      <td>Fortaleza</td>\n",
       "      <td>23</td>\n",
       "      <td>CE</td>\n",
       "      <td>21</td>\n",
       "      <td>F</td>\n",
       "      <td>0.0</td>\n",
       "      <td>...</td>\n",
       "      <td>NaN</td>\n",
       "      <td>A</td>\n",
       "      <td>A</td>\n",
       "      <td>A</td>\n",
       "      <td>A</td>\n",
       "      <td>C</td>\n",
       "      <td>A</td>\n",
       "      <td>A</td>\n",
       "      <td>B</td>\n",
       "      <td>A</td>\n",
       "    </tr>\n",
       "    <tr>\n",
       "      <th>3</th>\n",
       "      <td>4</td>\n",
       "      <td>3d6ec248fef899c414e77f82d5c6d2bffbeaf7fe</td>\n",
       "      <td>2016</td>\n",
       "      <td>3304557</td>\n",
       "      <td>Rio de Janeiro</td>\n",
       "      <td>33</td>\n",
       "      <td>RJ</td>\n",
       "      <td>25</td>\n",
       "      <td>F</td>\n",
       "      <td>0.0</td>\n",
       "      <td>...</td>\n",
       "      <td>5.0</td>\n",
       "      <td>C</td>\n",
       "      <td>A</td>\n",
       "      <td>A</td>\n",
       "      <td>A</td>\n",
       "      <td>A</td>\n",
       "      <td>D</td>\n",
       "      <td>A</td>\n",
       "      <td>A</td>\n",
       "      <td>A</td>\n",
       "    </tr>\n",
       "    <tr>\n",
       "      <th>4</th>\n",
       "      <td>5</td>\n",
       "      <td>bf896ac8d3ecadd6dba1dfbf50110afcbf5d3268</td>\n",
       "      <td>2016</td>\n",
       "      <td>1302603</td>\n",
       "      <td>Manaus</td>\n",
       "      <td>13</td>\n",
       "      <td>AM</td>\n",
       "      <td>28</td>\n",
       "      <td>M</td>\n",
       "      <td>0.0</td>\n",
       "      <td>...</td>\n",
       "      <td>NaN</td>\n",
       "      <td>A</td>\n",
       "      <td>A</td>\n",
       "      <td>A</td>\n",
       "      <td>A</td>\n",
       "      <td>A</td>\n",
       "      <td>A</td>\n",
       "      <td>A</td>\n",
       "      <td>A</td>\n",
       "      <td>A</td>\n",
       "    </tr>\n",
       "  </tbody>\n",
       "</table>\n",
       "<p>5 rows × 167 columns</p>\n",
       "</div>"
      ],
      "text/plain": [
       "   Unnamed: 0                              NU_INSCRICAO  NU_ANO  \\\n",
       "0           1  ed50e8aaa58e7a806c337585efee9ca41f1eb1ad    2016   \n",
       "1           2  2c3acac4b33ec2b195d77e7c04a2d75727fad723    2016   \n",
       "2           3  f4545f8ccb9ff5c8aad7d32951b3f251a26e6568    2016   \n",
       "3           4  3d6ec248fef899c414e77f82d5c6d2bffbeaf7fe    2016   \n",
       "4           5  bf896ac8d3ecadd6dba1dfbf50110afcbf5d3268    2016   \n",
       "\n",
       "   CO_MUNICIPIO_RESIDENCIA NO_MUNICIPIO_RESIDENCIA  CO_UF_RESIDENCIA  \\\n",
       "0                  4314902            Porto Alegre                43   \n",
       "1                  2304707                  Granja                23   \n",
       "2                  2304400               Fortaleza                23   \n",
       "3                  3304557          Rio de Janeiro                33   \n",
       "4                  1302603                  Manaus                13   \n",
       "\n",
       "  SG_UF_RESIDENCIA  NU_IDADE TP_SEXO  TP_ESTADO_CIVIL  ...   Q041  Q042  Q043  \\\n",
       "0               RS        24       M              0.0  ...    5.0     A     A   \n",
       "1               CE        17       F              0.0  ...    NaN     A     A   \n",
       "2               CE        21       F              0.0  ...    NaN     A     A   \n",
       "3               RJ        25       F              0.0  ...    5.0     C     A   \n",
       "4               AM        28       M              0.0  ...    NaN     A     A   \n",
       "\n",
       "  Q044  Q045 Q046  Q047  Q048  Q049  Q050  \n",
       "0    A     A    A     A     A     B     D  \n",
       "1    C     A    B     A     A     C     A  \n",
       "2    A     A    C     A     A     B     A  \n",
       "3    A     A    A     D     A     A     A  \n",
       "4    A     A    A     A     A     A     A  \n",
       "\n",
       "[5 rows x 167 columns]"
      ]
     },
     "execution_count": 3,
     "metadata": {},
     "output_type": "execute_result"
    }
   ],
   "source": [
    "# olhando a estrutura dos dados de treinamento\n",
    "df_train.head(5)"
   ]
  },
  {
   "cell_type": "code",
   "execution_count": 4,
   "metadata": {
    "colab": {
     "base_uri": "https://localhost:8080/",
     "height": 226
    },
    "id": "e4AubKbKJ4Co",
    "outputId": "60f4042a-874a-42cf-a99d-241a3ea176ff"
   },
   "outputs": [
    {
     "data": {
      "text/html": [
       "<div>\n",
       "<style scoped>\n",
       "    .dataframe tbody tr th:only-of-type {\n",
       "        vertical-align: middle;\n",
       "    }\n",
       "\n",
       "    .dataframe tbody tr th {\n",
       "        vertical-align: top;\n",
       "    }\n",
       "\n",
       "    .dataframe thead th {\n",
       "        text-align: right;\n",
       "    }\n",
       "</style>\n",
       "<table border=\"1\" class=\"dataframe\">\n",
       "  <thead>\n",
       "    <tr style=\"text-align: right;\">\n",
       "      <th></th>\n",
       "      <th>NU_INSCRICAO</th>\n",
       "      <th>CO_UF_RESIDENCIA</th>\n",
       "      <th>SG_UF_RESIDENCIA</th>\n",
       "      <th>NU_IDADE</th>\n",
       "      <th>TP_SEXO</th>\n",
       "      <th>TP_COR_RACA</th>\n",
       "      <th>TP_NACIONALIDADE</th>\n",
       "      <th>TP_ST_CONCLUSAO</th>\n",
       "      <th>TP_ANO_CONCLUIU</th>\n",
       "      <th>TP_ESCOLA</th>\n",
       "      <th>...</th>\n",
       "      <th>NU_NOTA_COMP5</th>\n",
       "      <th>NU_NOTA_REDACAO</th>\n",
       "      <th>Q001</th>\n",
       "      <th>Q002</th>\n",
       "      <th>Q006</th>\n",
       "      <th>Q024</th>\n",
       "      <th>Q025</th>\n",
       "      <th>Q026</th>\n",
       "      <th>Q027</th>\n",
       "      <th>Q047</th>\n",
       "    </tr>\n",
       "  </thead>\n",
       "  <tbody>\n",
       "    <tr>\n",
       "      <th>0</th>\n",
       "      <td>73ff9fcc02f0a99919906c942c2e1a1042cdcf98</td>\n",
       "      <td>41</td>\n",
       "      <td>PR</td>\n",
       "      <td>22</td>\n",
       "      <td>F</td>\n",
       "      <td>3</td>\n",
       "      <td>1</td>\n",
       "      <td>1</td>\n",
       "      <td>5</td>\n",
       "      <td>1</td>\n",
       "      <td>...</td>\n",
       "      <td>40.0</td>\n",
       "      <td>420.0</td>\n",
       "      <td>B</td>\n",
       "      <td>A</td>\n",
       "      <td>C</td>\n",
       "      <td>A</td>\n",
       "      <td>A</td>\n",
       "      <td>C</td>\n",
       "      <td>C</td>\n",
       "      <td>A</td>\n",
       "    </tr>\n",
       "    <tr>\n",
       "      <th>1</th>\n",
       "      <td>71a95f9f1b91a82c65ad94abbdf9f54e6066f968</td>\n",
       "      <td>21</td>\n",
       "      <td>MA</td>\n",
       "      <td>26</td>\n",
       "      <td>F</td>\n",
       "      <td>3</td>\n",
       "      <td>1</td>\n",
       "      <td>1</td>\n",
       "      <td>8</td>\n",
       "      <td>1</td>\n",
       "      <td>...</td>\n",
       "      <td>100.0</td>\n",
       "      <td>580.0</td>\n",
       "      <td>E</td>\n",
       "      <td>B</td>\n",
       "      <td>C</td>\n",
       "      <td>B</td>\n",
       "      <td>B</td>\n",
       "      <td>B</td>\n",
       "      <td>F</td>\n",
       "      <td>A</td>\n",
       "    </tr>\n",
       "    <tr>\n",
       "      <th>2</th>\n",
       "      <td>b38a03232f43b11c9d0788abaf060f7366053b6d</td>\n",
       "      <td>23</td>\n",
       "      <td>CE</td>\n",
       "      <td>21</td>\n",
       "      <td>M</td>\n",
       "      <td>1</td>\n",
       "      <td>1</td>\n",
       "      <td>2</td>\n",
       "      <td>0</td>\n",
       "      <td>2</td>\n",
       "      <td>...</td>\n",
       "      <td>80.0</td>\n",
       "      <td>320.0</td>\n",
       "      <td>E</td>\n",
       "      <td>E</td>\n",
       "      <td>D</td>\n",
       "      <td>B</td>\n",
       "      <td>B</td>\n",
       "      <td>A</td>\n",
       "      <td>NaN</td>\n",
       "      <td>A</td>\n",
       "    </tr>\n",
       "    <tr>\n",
       "      <th>3</th>\n",
       "      <td>70b682d9a3636be23f6120fa9d6b164eb3c6002d</td>\n",
       "      <td>15</td>\n",
       "      <td>PA</td>\n",
       "      <td>27</td>\n",
       "      <td>F</td>\n",
       "      <td>3</td>\n",
       "      <td>1</td>\n",
       "      <td>1</td>\n",
       "      <td>8</td>\n",
       "      <td>1</td>\n",
       "      <td>...</td>\n",
       "      <td>NaN</td>\n",
       "      <td>NaN</td>\n",
       "      <td>H</td>\n",
       "      <td>E</td>\n",
       "      <td>G</td>\n",
       "      <td>B</td>\n",
       "      <td>B</td>\n",
       "      <td>A</td>\n",
       "      <td>NaN</td>\n",
       "      <td>A</td>\n",
       "    </tr>\n",
       "    <tr>\n",
       "      <th>4</th>\n",
       "      <td>715494628a50142ce8cb17191cfe6d0f3cae0934</td>\n",
       "      <td>41</td>\n",
       "      <td>PR</td>\n",
       "      <td>18</td>\n",
       "      <td>M</td>\n",
       "      <td>1</td>\n",
       "      <td>1</td>\n",
       "      <td>2</td>\n",
       "      <td>0</td>\n",
       "      <td>2</td>\n",
       "      <td>...</td>\n",
       "      <td>0.0</td>\n",
       "      <td>320.0</td>\n",
       "      <td>D</td>\n",
       "      <td>H</td>\n",
       "      <td>H</td>\n",
       "      <td>C</td>\n",
       "      <td>B</td>\n",
       "      <td>A</td>\n",
       "      <td>NaN</td>\n",
       "      <td>A</td>\n",
       "    </tr>\n",
       "  </tbody>\n",
       "</table>\n",
       "<p>5 rows × 47 columns</p>\n",
       "</div>"
      ],
      "text/plain": [
       "                               NU_INSCRICAO  CO_UF_RESIDENCIA  \\\n",
       "0  73ff9fcc02f0a99919906c942c2e1a1042cdcf98                41   \n",
       "1  71a95f9f1b91a82c65ad94abbdf9f54e6066f968                21   \n",
       "2  b38a03232f43b11c9d0788abaf060f7366053b6d                23   \n",
       "3  70b682d9a3636be23f6120fa9d6b164eb3c6002d                15   \n",
       "4  715494628a50142ce8cb17191cfe6d0f3cae0934                41   \n",
       "\n",
       "  SG_UF_RESIDENCIA  NU_IDADE TP_SEXO  TP_COR_RACA  TP_NACIONALIDADE  \\\n",
       "0               PR        22       F            3                 1   \n",
       "1               MA        26       F            3                 1   \n",
       "2               CE        21       M            1                 1   \n",
       "3               PA        27       F            3                 1   \n",
       "4               PR        18       M            1                 1   \n",
       "\n",
       "   TP_ST_CONCLUSAO  TP_ANO_CONCLUIU  TP_ESCOLA  ...   NU_NOTA_COMP5  \\\n",
       "0                1                5          1  ...            40.0   \n",
       "1                1                8          1  ...           100.0   \n",
       "2                2                0          2  ...            80.0   \n",
       "3                1                8          1  ...             NaN   \n",
       "4                2                0          2  ...             0.0   \n",
       "\n",
       "   NU_NOTA_REDACAO  Q001  Q002  Q006  Q024  Q025  Q026  Q027  Q047  \n",
       "0            420.0     B     A     C     A     A     C     C     A  \n",
       "1            580.0     E     B     C     B     B     B     F     A  \n",
       "2            320.0     E     E     D     B     B     A   NaN     A  \n",
       "3              NaN     H     E     G     B     B     A   NaN     A  \n",
       "4            320.0     D     H     H     C     B     A   NaN     A  \n",
       "\n",
       "[5 rows x 47 columns]"
      ]
     },
     "execution_count": 4,
     "metadata": {},
     "output_type": "execute_result"
    }
   ],
   "source": [
    "# olhando a estrutura dos dados de teste\n",
    "df_test.head(5)"
   ]
  },
  {
   "cell_type": "code",
   "execution_count": 5,
   "metadata": {
    "colab": {
     "base_uri": "https://localhost:8080/"
    },
    "id": "dCgt65l-JQbP",
    "outputId": "41cf8b04-2d02-43de-fd16-5ed84f8ab382"
   },
   "outputs": [
    {
     "name": "stdout",
     "output_type": "stream",
     "text": [
      "Tamanho dos dados de treinamento (13730, 167)\n",
      "Tamanho dos dados de teste (4576, 47)\n"
     ]
    }
   ],
   "source": [
    "print('Tamanho dos dados de treinamento', df_train.shape)\n",
    "print('Tamanho dos dados de teste', df_test.shape)"
   ]
  },
  {
   "cell_type": "markdown",
   "metadata": {
    "id": "5hmrMwquJkt-"
   },
   "source": [
    "Como há uma diferença entre o número de colunas nos dados de teste e treinamento, vou eliminar as colunas diferentes entre eles. Isso será feito porque não poderei usar estas variáveis para prever os dados de target.\n",
    "\n",
    "\n"
   ]
  },
  {
   "cell_type": "code",
   "execution_count": 6,
   "metadata": {
    "id": "AuJZc9EJJQjS"
   },
   "outputs": [],
   "source": [
    "# antes de eliminar as colunas diferentes dos bancos de dados vou separar os dados de target dos dados de treinamento\n",
    "\n",
    "y =  df_train['NU_NOTA_MT'] # dados de target "
   ]
  },
  {
   "cell_type": "code",
   "execution_count": 7,
   "metadata": {
    "id": "m58XEN8FKxlA"
   },
   "outputs": [],
   "source": [
    "# Selecionando as colunas comuns dos bancos de dados\n",
    "\n",
    "cont = []\n",
    "for i in range(len(df_train.columns)):\n",
    "    cont.append(np.sum(np.sum(df_test.columns == df_train.columns[i])))"
   ]
  },
  {
   "cell_type": "code",
   "execution_count": 8,
   "metadata": {
    "colab": {
     "base_uri": "https://localhost:8080/"
    },
    "id": "QPIekogGLNMa",
    "outputId": "e6a1d184-d20d-4878-af63-8be00270a952"
   },
   "outputs": [
    {
     "data": {
      "text/plain": [
       "Index(['NU_INSCRICAO', 'CO_UF_RESIDENCIA', 'SG_UF_RESIDENCIA', 'NU_IDADE',\n",
       "       'TP_SEXO', 'TP_COR_RACA', 'TP_NACIONALIDADE', 'TP_ST_CONCLUSAO',\n",
       "       'TP_ANO_CONCLUIU', 'TP_ESCOLA', 'TP_ENSINO', 'IN_TREINEIRO',\n",
       "       'TP_DEPENDENCIA_ADM_ESC', 'IN_BAIXA_VISAO', 'IN_CEGUEIRA', 'IN_SURDEZ',\n",
       "       'IN_DISLEXIA', 'IN_DISCALCULIA', 'IN_SABATISTA', 'IN_GESTANTE',\n",
       "       'IN_IDOSO', 'TP_PRESENCA_CN', 'TP_PRESENCA_CH', 'TP_PRESENCA_LC',\n",
       "       'CO_PROVA_CN', 'CO_PROVA_CH', 'CO_PROVA_LC', 'CO_PROVA_MT',\n",
       "       'NU_NOTA_CN', 'NU_NOTA_CH', 'NU_NOTA_LC', 'TP_LINGUA',\n",
       "       'TP_STATUS_REDACAO', 'NU_NOTA_COMP1', 'NU_NOTA_COMP2', 'NU_NOTA_COMP3',\n",
       "       'NU_NOTA_COMP4', 'NU_NOTA_COMP5', 'NU_NOTA_REDACAO', 'Q001', 'Q002',\n",
       "       'Q006', 'Q024', 'Q025', 'Q026', 'Q027', 'Q047'],\n",
       "      dtype='object')"
      ]
     },
     "execution_count": 8,
     "metadata": {},
     "output_type": "execute_result"
    }
   ],
   "source": [
    "# colunas comuns aos banco de dados \n",
    "df_train.columns[np.array(np.array(cont) == 1)]"
   ]
  },
  {
   "cell_type": "markdown",
   "metadata": {
    "id": "KJAaVEh_M26L"
   },
   "source": [
    "Após conhecer quais variáveis presentes em ambos datasets, segue as descrição delas.\n",
    "- NU_INSCRICAO : Número de inscrição do aluno.\n",
    "- CO_UF_RESIDENCIA: Código da Unidade da Federação de residência.\n",
    "- SG_UF_RESIDENCIA: Sigla da Unidade da Federação de residência.\n",
    "- NU_IDADE: Idade da pessoa que vai fazer a prova.\n",
    "- TP_SEXO: Sexo da pessoa que vai fazer a prova.\n",
    "- TP_COR_RACA: Cor da pele da pessoa.\n",
    "- TP_NACIONALIDADE: Nacionalidade da pessoa.\n",
    "- TP_ST_CONCLUSAO: Situação da sua conclusão do ensino médio.\n",
    "- TP_ANO_CONCLUIU: Ano de conclusão do ensino médio.\n",
    "- TP_ESCOLA: Se a escola que a pessoa está é particular, pública ou exterior.\n",
    "- TP_ENSINO: Qal escola concluiu o ensino médio\n",
    "- IN_TREINEIRO: Se a pessoa está fazendo a prova para testar os seus conhecimentos.\n",
    "- TP_DEPENDENCIA_ADM_ESC:  Se a escola que ele estuda ou estudou, é municipal, estadual ou federal.\n",
    "- IN_BAIXA_VISAO: Pessoas com problemas de baixa visão.\n",
    "- IN_CEGUEIRA: Se a pessoa é cega.\n",
    "- IN_SURDEZ: Se a pessoa é surda.\n",
    "- IN_DISLEXIA: Se a pessoa é disléxica.\n",
    "- IN_DISCALCULIA: Se a pessoa tem DISCALCULIA\n",
    "- IN_SABATISTA: Pessoas que não podem fazer no horário previsto por causa da religião.\n",
    "- IN_GESTANTE:Se a pessoa ta gravida\n",
    "- IN_IDOSO: Se a pessoa se qualifica como idosos.\n",
    "- TP_PRESENCA_CN: Presença na prova objetiva de Ciências da Natureza.\n",
    "- TP_PRESENCA_CH: Presença na prova objetiva de Ciências Humanas.\n",
    "- TP_PRESENCA_LC: Presença na prova objetiva de Linguagens e Códigos\n",
    "- CO_PROVA_CN: Código do tipo de prova de Ciências da Natureza\n",
    "- CO_PROVA_CH: Código do tipo de prova de Ciências Humanas\n",
    "- CO_PROVA_LC: Código do tipo de prova de Linguagens e Códigos\n",
    "- CO_PROVA_MT: Código do tipo de prova de Matemática\n",
    "- NU_NOTA_CN: Nota da prova de Ciências da Natureza\n",
    "- NU_NOTA_CH: Nota da prova de Ciências Humanas\n",
    "- NU_NOTA_LC: Nota da prova de Linguagens e Códigos\n",
    "- TP_LINGUA: Qual língua estrangeiro foi fazer\n",
    "- TP_STATUS_REDACAO: status da redação (se ela foi cancelada ou não e o motivo dela foi cancelada).\n",
    "- NU_NOTA_COMP1: Nota da competência 1 - Demonstrar domínio da modalidade escrita formal da Língua Portuguesa.\n",
    "- NU_NOTA_COMP2: Nota da competência 2 - Compreender a proposta de redação e aplicar conceitos das várias áreas de conhecimento para desenvolver o tema, dentro dos limites estruturais do texto dissertativo-argumentativo em prosa.\n",
    "- NU_NOTA_COMP3: Nota da competência 3 - Selecionar, relacionar, organizar e interpretar informações, fatos, opiniões e argumentos em defesa de um ponto de vista.\n",
    "- NU_NOTA_COMP4:Nota da competência 4 - Demonstrar conhecimento dos mecanismos linguísticos necessários para a construção da argumentação.\n",
    "- NU_NOTA_COMP5:Nota da competência 5 - Elaborar proposta de intervenção para o problema abordado, respeitando os direitos humanos.\n",
    "- NU_NOTA_REDACAO: Nota da prova de redação.\n",
    "- Q001: Até que série seu pai, ou o homem responsável por você, estudou?\n",
    "- Q002: Até que série sua mãe, ou a mulher responsável por você, estudou?\n",
    "- Q006: Qual é a renda mensal de sua família? (Some a sua renda com a dos seus familiares.)\n",
    "- Q024: Na sua residência tem computador?\n",
    "- Q025: Na sua residência tem acesso à Internet?\n",
    "- Q026: Você exerce ou já exerceu atividade remunerada?\n",
    "- Q027: Com que idade você começou a exercer uma atividade remunerada?\n",
    "- Q047: Em que tipo de escola você frequentou o Ensino Médio?\n",
    "Após conhecer quais variáveis presentes em ambos datasets, segue as descrição delas.\n",
    "- NU_INSCRICAO : Número de inscrição do aluno.\n",
    "- CO_UF_RESIDENCIA: Código da Unidade da Federação de residência.\n",
    "- SG_UF_RESIDENCIA: Sigla da Unidade da Federação de residência.\n",
    "- NU_IDADE: Idade da pessoa que vai fazer a prova.\n",
    "- TP_SEXO: Sexo da pessoa que vai fazer a prova.\n",
    "- TP_COR_RACA: Cor da pele da pessoa.\n",
    "- TP_NACIONALIDADE: Nacionalidade da pessoa.\n",
    "- TP_ST_CONCLUSAO: Situação da sua conclusão do ensino médio.\n",
    "- TP_ANO_CONCLUIU: Ano de conclusão do ensino médio.\n",
    "- TP_ESCOLA: Se a escola que a pessoa está é particular, pública ou exterior.\n",
    "- TP_ENSINO: Qal escola concluiu o ensino médio\n",
    "- IN_TREINEIRO: Se a pessoa está fazendo a prova para testar os seus conhecimentos.\n",
    "- TP_DEPENDENCIA_ADM_ESC:  Se a escola que ele estuda ou estudou, é municipal, estadual ou federal.\n",
    "- IN_BAIXA_VISAO: Pessoas com problemas de baixa visão.\n",
    "- IN_CEGUEIRA: Se a pessoa é cega.\n",
    "- IN_SURDEZ: Se a pessoa é surda.\n",
    "- IN_DISLEXIA: Se a pessoa é disléxica.\n",
    "- IN_DISCALCULIA: Se a pessoa tem DISCALCULIA\n",
    "- IN_SABATISTA: Pessoas que não podem fazer no horário previsto por causa da religião.\n",
    "- IN_GESTANTE:Se a pessoa ta gravida\n",
    "- IN_IDOSO: Se a pessoa se qualifica como idosos.\n",
    "- TP_PRESENCA_CN: Presença na prova objetiva de Ciências da Natureza.\n",
    "- TP_PRESENCA_CH: Presença na prova objetiva de Ciências Humanas.\n",
    "- TP_PRESENCA_LC: Presença na prova objetiva de Linguagens e Códigos\n",
    "- CO_PROVA_CN: Código do tipo de prova de Ciências da Natureza\n",
    "- CO_PROVA_CH: Código do tipo de prova de Ciências Humanas\n",
    "- CO_PROVA_LC: Código do tipo de prova de Linguagens e Códigos\n",
    "- CO_PROVA_MT: Código do tipo de prova de Matemática\n",
    "- NU_NOTA_CN: Nota da prova de Ciências da Natureza\n",
    "- NU_NOTA_CH: Nota da prova de Ciências Humanas\n",
    "- NU_NOTA_LC: Nota da prova de Linguagens e Códigos\n",
    "- TP_LINGUA: Qual língua estrangeiro foi fazer\n",
    "- TP_STATUS_REDACAO: status da redação (se ela foi cancelada ou não e o motivo dela foi cancelada).\n",
    "- NU_NOTA_COMP1: Nota da competência 1 - Demonstrar domínio da modalidade escrita formal da Língua Portuguesa.\n",
    "- NU_NOTA_COMP2: Nota da competência 2 - Compreender a proposta de redação e aplicar conceitos das várias áreas de conhecimento para desenvolver o tema, dentro dos limites estruturais do texto dissertativo-argumentativo em prosa.\n",
    "- NU_NOTA_COMP3: Nota da competência 3 - Selecionar, relacionar, organizar e interpretar informações, fatos, opiniões e argumentos em defesa de um ponto de vista.\n",
    "- NU_NOTA_COMP4:Nota da competência 4 - Demonstrar conhecimento dos mecanismos linguísticos necessários para a construção da argumentação.\n",
    "- NU_NOTA_COMP5:Nota da competência 5 - Elaborar proposta de intervenção para o problema abordado, respeitando os direitos humanos.\n",
    "- NU_NOTA_REDACAO: Nota da prova de redação.\n",
    "- Q001: Até que série seu pai, ou o homem responsável por você, estudou?\n",
    "- Q002: Até que série sua mãe, ou a mulher responsável por você, estudou?\n",
    "- Q006: Qual é a renda mensal de sua família? (Some a sua renda com a dos seus familiares.)\n",
    "- Q024: Na sua residência tem computador?\n",
    "- Q025: Na sua residência tem acesso à Internet?\n",
    "- Q026: Você exerce ou já exerceu atividade remunerada?\n",
    "- Q027: Com que idade você começou a exercer uma atividade remunerada?\n",
    "- Q047: Em que tipo de escola você frequentou o Ensino Médio?\n",
    " \n",
    " \n",
    "\n",
    "\n",
    "\n",
    " \n",
    "\n",
    "\n"
   ]
  },
  {
   "cell_type": "markdown",
   "metadata": {
    "id": "BMn41Qir-sMh"
   },
   "source": [
    "Olhando as variáveis, a primeira hipótese para selecioná-las para criar um algoritmo de machine learning de regressão será no uso das variáveis preditoras que tenham a informação das notas das pessoas. Pois para passar na maioria das faculdades é o somatório da nota de todas as provas. Por causa disso, vou treinar os modelos de regressão com as notas das provas.\n"
   ]
  },
  {
   "cell_type": "code",
   "execution_count": 9,
   "metadata": {
    "id": "TaUT0c9ALNPM"
   },
   "outputs": [],
   "source": [
    "colunas           = ['NU_NOTA_CN','NU_NOTA_CH','NU_NOTA_LC','NU_NOTA_REDACAO']\n",
    "df_treinamento_h1 = df_train[colunas]\n",
    "df_teste_h1       = df_test[colunas] "
   ]
  },
  {
   "cell_type": "markdown",
   "metadata": {
    "id": "TMK_4id7EyGt"
   },
   "source": [
    "# Olhando os dados faltantes"
   ]
  },
  {
   "cell_type": "code",
   "execution_count": 10,
   "metadata": {
    "colab": {
     "base_uri": "https://localhost:8080/"
    },
    "id": "oTv7LS5Y-hay",
    "outputId": "630add1c-2a88-4437-a9df-1220755f412f"
   },
   "outputs": [
    {
     "name": "stdout",
     "output_type": "stream",
     "text": [
      "Número de dados faltantes nas variáveis preditoras nos dados de treinamento\n",
      "NU_NOTA_CN         3389\n",
      "NU_NOTA_CH         3389\n",
      "NU_NOTA_LC         3597\n",
      "NU_NOTA_REDACAO    3597\n",
      "dtype: int64\n",
      "NU_NOTA_MT (Dados de target)  3597\n",
      "\n",
      "Número de dados faltantes nas variáveis preditoras nos dados de teste\n",
      "NU_NOTA_CN         1134\n",
      "NU_NOTA_CH         1134\n",
      "NU_NOTA_LC         1199\n",
      "NU_NOTA_REDACAO    1199\n",
      "dtype: int64\n"
     ]
    }
   ],
   "source": [
    "print('Número de dados faltantes nas variáveis preditoras nos dados de treinamento')\n",
    "print(df_treinamento_h1.isnull().sum(axis = 0))\n",
    "print('NU_NOTA_MT (Dados de target) ',y.isnull().sum(axis = 0))\n",
    "print('')\n",
    "print('Número de dados faltantes nas variáveis preditoras nos dados de teste')\n",
    "print(df_teste_h1.isnull().sum(axis = 0))"
   ]
  },
  {
   "cell_type": "markdown",
   "metadata": {
    "id": "y4GRN-vcG7ik"
   },
   "source": [
    "Antes de tomar uma decição de como vou prencher os dados faltantes vou ver se uma pessoa que falto alguma prova ele recebeu NaN."
   ]
  },
  {
   "cell_type": "code",
   "execution_count": 11,
   "metadata": {
    "id": "2QhVHqd-Fp7l"
   },
   "outputs": [],
   "source": [
    "col = ['TP_PRESENCA_CN','TP_PRESENCA_CH','TP_PRESENCA_LC','NU_NOTA_CN','NU_NOTA_CH','NU_NOTA_LC','NU_NOTA_MT','NU_NOTA_REDACAO']\n",
    "col1 = ['TP_PRESENCA_CN','TP_PRESENCA_CH','TP_PRESENCA_LC','NU_NOTA_CN','NU_NOTA_CH','NU_NOTA_LC','NU_NOTA_REDACAO']"
   ]
  },
  {
   "cell_type": "code",
   "execution_count": 12,
   "metadata": {
    "id": "49K-xA8oHslL"
   },
   "outputs": [],
   "source": [
    "df_treinamento_f = df_train[col]\n",
    "df_teste_f       = df_test[col1] "
   ]
  },
  {
   "cell_type": "code",
   "execution_count": 13,
   "metadata": {
    "colab": {
     "base_uri": "https://localhost:8080/"
    },
    "id": "zg5bNg4QHsvF",
    "outputId": "28092da1-0ff4-4d05-c21e-f0553758546f"
   },
   "outputs": [
    {
     "data": {
      "text/plain": [
       "TP_PRESENCA_CN        0\n",
       "TP_PRESENCA_CH        0\n",
       "TP_PRESENCA_LC        0\n",
       "NU_NOTA_CN         3389\n",
       "NU_NOTA_CH         3389\n",
       "NU_NOTA_LC         3597\n",
       "NU_NOTA_MT         3597\n",
       "NU_NOTA_REDACAO    3597\n",
       "dtype: int64"
      ]
     },
     "execution_count": 13,
     "metadata": {},
     "output_type": "execute_result"
    }
   ],
   "source": [
    "df_treinamento_f.isnull().sum(axis = 0)"
   ]
  },
  {
   "cell_type": "code",
   "execution_count": 14,
   "metadata": {
    "colab": {
     "base_uri": "https://localhost:8080/"
    },
    "id": "qbQQ770hIB8d",
    "outputId": "eaf83c41-00ce-4d99-9261-bdd7c0d09237"
   },
   "outputs": [
    {
     "data": {
      "text/plain": [
       "TP_PRESENCA_CN        0\n",
       "TP_PRESENCA_CH        0\n",
       "TP_PRESENCA_LC        0\n",
       "NU_NOTA_CN         1134\n",
       "NU_NOTA_CH         1134\n",
       "NU_NOTA_LC         1199\n",
       "NU_NOTA_REDACAO    1199\n",
       "dtype: int64"
      ]
     },
     "execution_count": 14,
     "metadata": {},
     "output_type": "execute_result"
    }
   ],
   "source": [
    "df_teste_f.isnull().sum(axis = 0)"
   ]
  },
  {
   "cell_type": "markdown",
   "metadata": {
    "id": "KXoKlymiIPEq"
   },
   "source": [
    "Não há dados faltantes nas colunas que marcam a presença. Agora será verificado se uma pessoa que não veio a prova recebeu um NaN.\n",
    "Mesmo não tendo a presença das pessoas que fizeram a prova de matemática, usei a presença da prova de línguas e códigos para ver se a pessoa não fez a prova de matemática, já que estas provas foram aplicadas no mesmo dia.\n",
    " \n",
    " \n",
    " \n",
    "\n"
   ]
  },
  {
   "cell_type": "code",
   "execution_count": 15,
   "metadata": {
    "colab": {
     "base_uri": "https://localhost:8080/"
    },
    "id": "rOTKPk5DIVoL",
    "outputId": "ad07c79e-afd8-4b0c-87f6-81071c476b2b"
   },
   "outputs": [
    {
     "name": "stdout",
     "output_type": "stream",
     "text": [
      "TP_PRESENCA_CN 0\n",
      "TP_PRESENCA_CH 0\n",
      "TP_PRESENCA_LC 0\n",
      "TP_PRESENCA_LC 0\n",
      "TP_PRESENCA_MT 0\n",
      "TP_PRESENCA_R 0\n"
     ]
    }
   ],
   "source": [
    "print('TP_PRESENCA_CN',np.sum(df_treinamento_f['NU_NOTA_CN'][df_treinamento_f['TP_PRESENCA_CN'] == 0].isnull() == 0))\n",
    "print('TP_PRESENCA_CH',np.sum(df_treinamento_f['NU_NOTA_CH'][df_treinamento_f['TP_PRESENCA_CH'] == 0].isnull() == 0))\n",
    "print('TP_PRESENCA_LC',np.sum(df_treinamento_f['NU_NOTA_LC'][df_treinamento_f['TP_PRESENCA_LC'] == 0].isnull() == 0))\n",
    "print('TP_PRESENCA_LC',np.sum(df_treinamento_f['NU_NOTA_LC'][df_treinamento_f['TP_PRESENCA_LC'] == 0].isnull() == 0))\n",
    "print('TP_PRESENCA_MT',np.sum(df_treinamento_f['NU_NOTA_MT'][df_treinamento_f['TP_PRESENCA_LC'] == 0].isnull() == 0))\n",
    "print('TP_PRESENCA_R',np.sum(df_treinamento_f['NU_NOTA_REDACAO'][df_treinamento_f['TP_PRESENCA_LC'] == 0].isnull() == 0))"
   ]
  },
  {
   "cell_type": "code",
   "execution_count": 16,
   "metadata": {
    "colab": {
     "base_uri": "https://localhost:8080/"
    },
    "id": "gsLyAERJMXWF",
    "outputId": "8507423c-7e4b-4bc0-be79-c306499ab982"
   },
   "outputs": [
    {
     "name": "stdout",
     "output_type": "stream",
     "text": [
      "TP_PRESENCA_CN 0\n",
      "TP_PRESENCA_CH 0\n",
      "TP_PRESENCA_LC 0\n",
      "TP_PRESENCA_LC 0\n",
      "TP_PRESENCA_R 0\n"
     ]
    }
   ],
   "source": [
    "print('TP_PRESENCA_CN',np.sum(df_teste_f['NU_NOTA_CN'][df_teste_f['TP_PRESENCA_CN'] == 0].isnull() == 0))\n",
    "print('TP_PRESENCA_CH',np.sum(df_teste_f['NU_NOTA_CH'][df_teste_f['TP_PRESENCA_CH'] == 0].isnull() == 0))\n",
    "print('TP_PRESENCA_LC',np.sum(df_teste_f['NU_NOTA_LC'][df_teste_f['TP_PRESENCA_LC'] == 0].isnull() == 0))\n",
    "print('TP_PRESENCA_LC',np.sum(df_teste_f['NU_NOTA_LC'][df_teste_f['TP_PRESENCA_LC'] == 0].isnull() == 0))\n",
    "print('TP_PRESENCA_R',np.sum(df_teste_f['NU_NOTA_REDACAO'][df_teste_f['TP_PRESENCA_LC'] == 0].isnull() == 0))"
   ]
  },
  {
   "cell_type": "markdown",
   "metadata": {
    "id": "ZpcVps1bL4vT"
   },
   "source": [
    "Como os dados faltantes representam as pessoas que não fizeram as provas, irei considerar estes dados com o valor de 0. "
   ]
  },
  {
   "cell_type": "code",
   "execution_count": 17,
   "metadata": {
    "id": "_co4N0YJIVuL"
   },
   "outputs": [],
   "source": [
    "df_treinamento_h1 = df_treinamento_h1.fillna(0) \n",
    "df_teste_f        = df_teste_f.fillna(0)\n",
    "y                 = y.fillna(0)"
   ]
  },
  {
   "cell_type": "code",
   "execution_count": 18,
   "metadata": {
    "colab": {
     "base_uri": "https://localhost:8080/"
    },
    "id": "0fWGKerxRfTJ",
    "outputId": "a3fc6d2a-218f-4715-fe76-3acc845e008a"
   },
   "outputs": [
    {
     "data": {
      "text/plain": [
       "NU_NOTA_CN         0\n",
       "NU_NOTA_CH         0\n",
       "NU_NOTA_LC         0\n",
       "NU_NOTA_REDACAO    0\n",
       "dtype: int64"
      ]
     },
     "execution_count": 18,
     "metadata": {},
     "output_type": "execute_result"
    }
   ],
   "source": [
    "df_treinamento_h1.isnull().sum(axis =0)"
   ]
  },
  {
   "cell_type": "markdown",
   "metadata": {
    "id": "2KGIvvMfOjfz"
   },
   "source": [
    "# Análise exploratória de dados"
   ]
  },
  {
   "cell_type": "markdown",
   "metadata": {
    "id": "u2UeOSvAP41j"
   },
   "source": [
    "Antes de treinar os modelos de regressão, será visto a relação das variáveis preditoras com os dados de target pelo seus valores de correlação para fortalecer a hipótese levantada.\n",
    " \n",
    " \n",
    " \n",
    " \n",
    "\n"
   ]
  },
  {
   "cell_type": "code",
   "execution_count": 19,
   "metadata": {
    "id": "YFMTsxbBIVwp"
   },
   "outputs": [],
   "source": [
    "dados = pd.concat([y,df_treinamento_h1], axis =1)"
   ]
  },
  {
   "cell_type": "code",
   "execution_count": 20,
   "metadata": {
    "id": "ow1E14e6IVyg"
   },
   "outputs": [],
   "source": [
    "corr = dados.corr()"
   ]
  },
  {
   "cell_type": "code",
   "execution_count": 21,
   "metadata": {
    "colab": {
     "base_uri": "https://localhost:8080/",
     "height": 540
    },
    "id": "jVPhxnYaIV0H",
    "outputId": "984eff5b-eb35-4d8c-f5a4-513a9ac47b8d"
   },
   "outputs": [
    {
     "data": {
      "text/plain": [
       "<matplotlib.axes._subplots.AxesSubplot at 0x7f91f5935ba8>"
      ]
     },
     "execution_count": 21,
     "metadata": {},
     "output_type": "execute_result"
    },
    {
     "data": {
      "image/png": "[encoded data removed]",
      "text/plain": [
       "<Figure size 792x576 with 2 Axes>"
      ]
     },
     "metadata": {},
     "output_type": "display_data"
    }
   ],
   "source": [
    "ax = plt.subplots(figsize=(11, 8))\n",
    "sns.heatmap(corr,  annot=True, annot_kws={\"size\": 10})"
   ]
  },
  {
   "cell_type": "markdown",
   "metadata": {
    "id": "cELK9Z4rTidd"
   },
   "source": [
    "* Pelo os valores de correlação apresentados, mostra que a hipótese levantada de que se uma pessoa tirou uma nota bota em uma prova ele tirou também em outra. \n"
   ]
  },
  {
   "cell_type": "markdown",
   "metadata": {
    "id": "WpcBbFMPVFWq"
   },
   "source": [
    "# Treinando os modelos de aprendizado de máquina\n",
    " \n",
    "\n"
   ]
  },
  {
   "cell_type": "code",
   "execution_count": 22,
   "metadata": {
    "id": "ATouVL3xeNAZ"
   },
   "outputs": [
    {
     "name": "stderr",
     "output_type": "stream",
     "text": [
      "/usr/local/lib/python3.5/dist-packages/sklearn/ensemble/weight_boosting.py:29: DeprecationWarning: numpy.core.umath_tests is an internal NumPy module and should not be imported. It will be removed in a future NumPy release.\n",
      "  from numpy.core.umath_tests import inner1d\n"
     ]
    }
   ],
   "source": [
    "from sklearn.preprocessing import StandardScaler, MinMaxScaler\n",
    "from sklearn.linear_model import LinearRegression\n",
    "from sklearn.neighbors import KNeighborsRegressor\n",
    "from sklearn.ensemble import GradientBoostingRegressor, RandomForestRegressor\n",
    "import sklearn.metrics as metrics\n",
    "from sklearn.linear_model import PassiveAggressiveRegressor\n",
    "from sklearn.model_selection import KFold\n",
    "from sklearn.metrics import mean_squared_error"
   ]
  },
  {
   "cell_type": "code",
   "execution_count": 23,
   "metadata": {
    "id": "3vSJn2PEqGs9"
   },
   "outputs": [],
   "source": [
    "def modelo_resultado(Modelo,model,X,y,flag):\n",
    "    scaler       = StandardScaler() \n",
    "    kf = KFold(n_splits=5) # selecionado 5 folds para realizar a validação cruzada\n",
    "    vetor_R2  = np.zeros(5)\n",
    "    vetor_MSE = np.zeros(5)\n",
    "    vetor_RMSE = np.zeros(5) \n",
    "    vetor_b = np.zeros(5) \n",
    "    i = 0\n",
    "    for linhas_treino, linhas_valid in kf.split(X):\n",
    "      \n",
    "        X_t, X_v = X.iloc[linhas_treino], X.iloc[linhas_valid]\n",
    "        y_t, y_v = y[linhas_treino], y[linhas_valid]\n",
    "    \n",
    "        if flag == 1: # normaliza os dados\n",
    "          # como todos os classificadores são baseados em distância, vou normalizar os dados \n",
    "            X_t     = scaler.fit_transform(X_t) # dados de treinamento normalizado\n",
    "            X_v     = scaler.fit_transform(X_v) #\n",
    "        md                    = model.fit(X_t, y_t)\n",
    "        y_pred                = md.predict(X_v)\n",
    "        vetor_R2[i]           = md.score(X_v,y_v)\n",
    "        vetor_MSE[i]          = mean_squared_error(y_v, y_pred)\n",
    "        #vetor_RMSE[i]         = mean_squared_error(y_v, y_pred,squared = False)\n",
    "\n",
    "        i = i + 1\n",
    "      \n",
    "    \n",
    "    print(Modelo)\n",
    "    print('R^2  = ',('Média',vetor_R2.mean(),  'std',vetor_R2.std(), 'erro',vetor_R2.std()/np.sqrt(5)))\n",
    "    print('MSE  = ',('Média',vetor_MSE.mean(), ' std',vetor_MSE.std(),'erro',vetor_MSE.std()/np.sqrt(5)))\n",
    "   # print('RMSE = ' ,('Média',vetor_RMSE.mean(),'std',vetor_RMSE.std(),'erro',vetor_RMSE.std()/np.sqrt(5)))\n",
    "\n",
    "    media = [vetor_R2.mean(),vetor_MSE.mean(),vetor_RMSE.mean()]\n",
    "    std   = [vetor_R2.std(),vetor_MSE.std(),vetor_RMSE.std()]\n",
    "    erro   = [vetor_R2.std()/np.sqrt(5),vetor_MSE.std()/np.sqrt(5),vetor_RMSE.std()/np.sqrt(5)]\n",
    "  \n",
    "    return media,std,erro"
   ]
  },
  {
   "cell_type": "code",
   "execution_count": 24,
   "metadata": {
    "colab": {
     "base_uri": "https://localhost:8080/"
    },
    "id": "iP-8-LcRz_9K",
    "outputId": "2453850c-b112-4232-9f04-95918cb5788d"
   },
   "outputs": [
    {
     "name": "stdout",
     "output_type": "stream",
     "text": [
      "Regressão Linear\n",
      "R^2  =  ('Média', 0.9025009893029038, 'std', 0.003309893103855748, 'erro', 0.0014802291956958447)\n",
      "MSE  =  ('Média', 5100.534817695312, ' std', 131.88803123537315, 'erro', 58.98212065218198)\n",
      "dados normalizados\n",
      "Regressão Linear\n",
      "R^2  =  ('Média', 0.9016245209300742, 'std', 0.0028398149399257704, 'erro', 0.0012700038498387007)\n",
      "MSE  =  ('Média', 5146.747946904907, ' std', 112.95314855010005, 'erro', 50.514183686131105)\n"
     ]
    }
   ],
   "source": [
    "mediaL_h1,stdL_h1,erroL_h1 = modelo_resultado('Regressão Linear',LinearRegression(),df_treinamento_h1,y,flag = 0)\n",
    "print('dados normalizados')\n",
    "mediaL_h1N,stdL_h1N,erroL_h1N = modelo_resultado('Regressão Linear',LinearRegression(),df_treinamento_h1,y,flag = 1)"
   ]
  },
  {
   "cell_type": "code",
   "execution_count": 25,
   "metadata": {
    "colab": {
     "base_uri": "https://localhost:8080/"
    },
    "id": "BU9CFAsv0AAF",
    "outputId": "d6085c23-552e-4b12-fb53-003976cdf8a5"
   },
   "outputs": [
    {
     "name": "stdout",
     "output_type": "stream",
     "text": [
      "KNN\n",
      "R^2  =  ('Média', 0.907812405382806, 'std', 0.0034644315506007235, 'erro', 0.001549340890107644)\n",
      "MSE  =  ('Média', 4821.331400757465, ' std', 92.08106217059736, 'erro', 41.179902890768005)\n",
      "dados normalizados\n",
      "KNN\n",
      "R^2  =  ('Média', 0.907713930884389, 'std', 0.0041501791117960225, 'erro', 0.001856016522555121)\n",
      "MSE  =  ('Média', 4825.873716882738, ' std', 130.74071851268647, 'erro', 58.469026804306424)\n"
     ]
    }
   ],
   "source": [
    "mediaK_h1,stdK_h1,erroK_h1  = modelo_resultado('KNN',KNeighborsRegressor(),df_treinamento_h1,y,flag = 0)\n",
    "print('dados normalizados')\n",
    "mediaK_h1N,stdK_h1N,erroK_h1N = modelo_resultado('KNN',KNeighborsRegressor(),df_treinamento_h1,y,flag = 1)"
   ]
  },
  {
   "cell_type": "code",
   "execution_count": 26,
   "metadata": {
    "colab": {
     "base_uri": "https://localhost:8080/"
    },
    "id": "Cw4B7y3y5xcb",
    "outputId": "c10168bc-6bb2-4ddf-f2b6-513f70be09ea"
   },
   "outputs": [
    {
     "name": "stdout",
     "output_type": "stream",
     "text": [
      "Gradient Boosting\n",
      "R^2  =  ('Média', 0.9218471003385108, 'std', 0.0032828577409682092, 'erro', 0.0014681386138532624)\n",
      "MSE  =  ('Média', 4087.4060490923125, ' std', 112.3429368150096, 'erro', 50.241288702065034)\n",
      "dados normalizados\n",
      "Gradient Boosting\n",
      "R^2  =  ('Média', 0.9217756052862363, 'std', 0.003506256623679166, 'erro', 0.0015680456314211028)\n",
      "MSE  =  ('Média', 4090.8486377452937, ' std', 120.28275109289653, 'erro', 53.79208159288075)\n"
     ]
    }
   ],
   "source": [
    "mediaG_h1,stdG_h1,erroG_h1    = modelo_resultado('Gradient Boosting',GradientBoostingRegressor(),df_treinamento_h1,y,flag = 0)\n",
    "print('dados normalizados')\n",
    "mediaG_h1N,stdG_h1N,erroG_h1N = modelo_resultado('Gradient Boosting',GradientBoostingRegressor(),df_treinamento_h1,y,flag = 1)"
   ]
  },
  {
   "cell_type": "code",
   "execution_count": 27,
   "metadata": {
    "colab": {
     "base_uri": "https://localhost:8080/"
    },
    "id": "NQMjpQkwqG0-",
    "outputId": "07e15031-bfb5-4582-a2cb-ec0208b92594"
   },
   "outputs": [
    {
     "name": "stdout",
     "output_type": "stream",
     "text": [
      "Floresta aleatória\n",
      "R^2  =  ('Média', 0.9070878761723504, 'std', 0.00386218937252565, 'erro', 0.0017272235957889223)\n",
      "MSE  =  ('Média', 4858.845332789513, ' std', 112.49238236312114, 'erro', 50.30812278296746)\n",
      "dados normalizados\n",
      "Floresta aleatória\n",
      "R^2  =  ('Média', 0.9080535965438722, 'std', 0.003383071559990237, 'erro', 0.0015129555961768855)\n",
      "MSE  =  ('Média', 4808.743971551348, ' std', 85.50270574885018, 'erro', 38.23797246291821)\n"
     ]
    }
   ],
   "source": [
    "mediaF_h1,stdF_h1,erroF_h1  = modelo_resultado('Floresta aleatória',RandomForestRegressor(),df_treinamento_h1,y,flag = 0)\n",
    "print('dados normalizados')\n",
    "mediaF_h1N,stdF_h1N,erroF_h1N  = modelo_resultado('Floresta aleatória',RandomForestRegressor(),df_treinamento_h1,y,flag = 1)"
   ]
  },
  {
   "cell_type": "markdown",
   "metadata": {
    "id": "bqWv1nLVOwjh"
   },
   "source": [
    "Pelos resultados apresentados a normalização dos dados não ta conseguindo ter uma melhorar nos dados"
   ]
  },
  {
   "cell_type": "markdown",
   "metadata": {
    "id": "wWMLOPEu5R94"
   },
   "source": [
    "# Outro teste que será feito será na adicião das notas que são referentes a cada tópico da nota de redeção.\n",
    "\n",
    "- Obs: antes irei ver se existe dados faltantes nesta colunas"
   ]
  },
  {
   "cell_type": "code",
   "execution_count": 28,
   "metadata": {
    "id": "CKPJTHfbqG5O"
   },
   "outputs": [],
   "source": [
    "col = ['NU_NOTA_CN','NU_NOTA_CH','NU_NOTA_LC','NU_NOTA_REDACAO','NU_NOTA_COMP1','NU_NOTA_COMP2','NU_NOTA_COMP3','NU_NOTA_COMP4','NU_NOTA_COMP5']"
   ]
  },
  {
   "cell_type": "code",
   "execution_count": 29,
   "metadata": {
    "id": "oDkpucrO7jp7"
   },
   "outputs": [],
   "source": [
    "df_treinamento_h2=df_train[col]\n",
    "df_teste_h2=df_test[col]"
   ]
  },
  {
   "cell_type": "code",
   "execution_count": 30,
   "metadata": {
    "colab": {
     "base_uri": "https://localhost:8080/"
    },
    "id": "cfXHg15_7js3",
    "outputId": "4bfd7c53-212c-4e9a-b42d-08035c5f695b"
   },
   "outputs": [
    {
     "name": "stdout",
     "output_type": "stream",
     "text": [
      "Número de dados faltantes nas variáveis preditoras nos dados de treinamento\n",
      "NU_NOTA_CN         3389\n",
      "NU_NOTA_CH         3389\n",
      "NU_NOTA_LC         3597\n",
      "NU_NOTA_REDACAO    3597\n",
      "NU_NOTA_COMP1      3597\n",
      "NU_NOTA_COMP2      3597\n",
      "NU_NOTA_COMP3      3597\n",
      "NU_NOTA_COMP4      3597\n",
      "NU_NOTA_COMP5      3597\n",
      "dtype: int64\n",
      "\n",
      "Número de dados faltantes nas variáveis preditoras nos dados de teste\n",
      "NU_NOTA_CN         1134\n",
      "NU_NOTA_CH         1134\n",
      "NU_NOTA_LC         1199\n",
      "NU_NOTA_REDACAO    1199\n",
      "NU_NOTA_COMP1      1199\n",
      "NU_NOTA_COMP2      1199\n",
      "NU_NOTA_COMP3      1199\n",
      "NU_NOTA_COMP4      1199\n",
      "NU_NOTA_COMP5      1199\n",
      "dtype: int64\n"
     ]
    }
   ],
   "source": [
    "print('Número de dados faltantes nas variáveis preditoras nos dados de treinamento')\n",
    "print(df_treinamento_h2.isnull().sum(axis = 0))\n",
    "\n",
    "print('')\n",
    "print('Número de dados faltantes nas variáveis preditoras nos dados de teste')\n",
    "print(df_teste_h2.isnull().sum(axis = 0))"
   ]
  },
  {
   "cell_type": "markdown",
   "metadata": {
    "id": "F1TdWQxI8ctF"
   },
   "source": [
    "Como existem dados faltantes nas novas variáveis, e elas têm o mesmo tamanho do que a nota de redação, vou levar em consideração que elas ocupam a mesma posição de dados faltantes das notas de redação. E estes dados serão preenchidos com 0.\n",
    " \n",
    "\n",
    "\n"
   ]
  },
  {
   "cell_type": "code",
   "execution_count": 31,
   "metadata": {
    "id": "cSty3DBw7jzQ"
   },
   "outputs": [],
   "source": [
    "df_treinamento_h2  = df_treinamento_h2.fillna(0) \n",
    "df_teste_h2        = df_teste_h2.fillna(0)\n",
    "#y                  = y.fillna(0)"
   ]
  },
  {
   "cell_type": "markdown",
   "metadata": {
    "id": "zyigelRc5Bfq"
   },
   "source": [
    "# Vendo se o resultado melhora "
   ]
  },
  {
   "cell_type": "code",
   "execution_count": 32,
   "metadata": {
    "colab": {
     "base_uri": "https://localhost:8080/"
    },
    "id": "YRH3mne4-kKJ",
    "outputId": "79fe90a5-14cb-4b24-f5dc-5a868976aad6"
   },
   "outputs": [
    {
     "name": "stdout",
     "output_type": "stream",
     "text": [
      "Gradient Boosting\n",
      "R^2  =  ('Média', 0.9218648670074794, 'std', 0.003420064000040032, 'erro', 0.0015294991182978708)\n",
      "MSE  =  ('Média', 4086.373794629521, ' std', 119.69066254508073, 'erro', 53.5272915445577)\n",
      "\n",
      "Normaliza os dados\n",
      "Gradient Boosting\n",
      "R^2  =  ('Média', 0.9219207404949546, 'std', 0.0036223454720851656, 'erro', 0.0016199621427141994)\n",
      "MSE  =  ('Média', 4083.0514046378726, ' std', 123.27167575169368, 'erro', 55.12876933621991)\n"
     ]
    },
    {
     "data": {
      "text/plain": [
       "([0.9219207404949546, 4083.0514046378726, 0.0],\n",
       " [0.0036223454720851656, 123.27167575169368, 0.0],\n",
       " [0.0016199621427141994, 55.12876933621991, 0.0])"
      ]
     },
     "execution_count": 32,
     "metadata": {},
     "output_type": "execute_result"
    }
   ],
   "source": [
    "modelo_resultado('Gradient Boosting',GradientBoostingRegressor(),df_treinamento_h2,y,flag = 0)\n",
    "print('')\n",
    "print('Normaliza os dados')\n",
    "modelo_resultado('Gradient Boosting',GradientBoostingRegressor(),df_treinamento_h2,y,flag = 1)\n",
    "#print('dados normalizados')\n",
    "#modelo_resultado('Gradient Boosting',GradientBoostingRegressor(),df_treinamento_h1,y,flag = 1)"
   ]
  },
  {
   "cell_type": "markdown",
   "metadata": {
    "id": "smrSISaeBjdh"
   },
   "source": [
    "# Tentativas para melhorar os resultados com criação de váriaveis.\n",
    "\n"
   ]
  },
  {
   "cell_type": "code",
   "execution_count": 33,
   "metadata": {
    "id": "fRsLm6eAYX9r"
   },
   "outputs": [],
   "source": [
    "df_treinamento_h3 = df_treinamento_h1"
   ]
  },
  {
   "cell_type": "code",
   "execution_count": 34,
   "metadata": {
    "id": "hhR5PYbBCizg"
   },
   "outputs": [],
   "source": [
    "df_treinamento_h3['media notas'] = np.mean(df_treinamento_h3, axis = 1)\n",
    "df_treinamento_h3['soma  notas'] = np.sum(df_treinamento_h3, axis = 1)\n",
    "#df_treinamento_h1['std   notas'] = np.std(df_treinamento_h1, axis = 1)\n",
    "\n"
   ]
  },
  {
   "cell_type": "code",
   "execution_count": 35,
   "metadata": {
    "colab": {
     "base_uri": "https://localhost:8080/"
    },
    "id": "koL44j9hT69M",
    "outputId": "55efffa8-6b27-4000-ead6-438cb8b56902"
   },
   "outputs": [
    {
     "name": "stdout",
     "output_type": "stream",
     "text": [
      "Regressão Linear\n",
      "R^2  =  ('Média', 0.9024883491001784, 'std', 0.0033449561784514832, 'erro', 0.0014959098793550867)\n",
      "MSE  =  ('Média', 5101.15373855678, ' std', 132.7400565163062, 'erro', 59.36315794152491)\n",
      "dados normalizados\n",
      "Regressão Linear\n",
      "R^2  =  ('Média', -1.0797165719817654e+19, 'std', 2.121094658528352e+19, 'erro', 9.485823686362198e+18)\n",
      "MSE  =  ('Média', 5.8947443902263606e+23, ' std', 1.1589279195703789e+24, 'erro', 5.182883218363552e+23)\n"
     ]
    }
   ],
   "source": [
    "mediaL_h3,stdL_h3,erroL_h3 = modelo_resultado('Regressão Linear',LinearRegression(),df_treinamento_h3,y,flag = 0)\n",
    "print('dados normalizados')\n",
    "mediaL_h3N,stdL_h3N,erroL_h3N = modelo_resultado('Regressão Linear',LinearRegression(),df_treinamento_h3,y,flag = 1)"
   ]
  },
  {
   "cell_type": "code",
   "execution_count": 36,
   "metadata": {
    "colab": {
     "base_uri": "https://localhost:8080/"
    },
    "id": "ONRMXng6UFdV",
    "outputId": "3119996a-9194-4123-89a3-ae4043264649"
   },
   "outputs": [
    {
     "name": "stdout",
     "output_type": "stream",
     "text": [
      "KNN\n",
      "R^2  =  ('Média', 0.9063414887248795, 'std', 0.004790789111210767, 'erro', 0.002142506023706615)\n",
      "MSE  =  ('Média', 4897.348441718864, ' std', 169.26906850130538, 'erro', 75.69942873139745)\n",
      "dados normalizados\n",
      "KNN\n",
      "R^2  =  ('Média', 0.9071594365066227, 'std', 0.003920431392727944, 'erro', 0.0017532702190527715)\n",
      "MSE  =  ('Média', 4855.012542840495, ' std', 114.11998443356595, 'erro', 51.036008556934256)\n"
     ]
    }
   ],
   "source": [
    "mediaK_h3,stdK_h3,erroK_h3  = modelo_resultado('KNN',KNeighborsRegressor(),df_treinamento_h3,y,flag = 0)\n",
    "print('dados normalizados')\n",
    "mediaK_h3N,stdK_h3N,erroK_h3N = modelo_resultado('KNN',KNeighborsRegressor(),df_treinamento_h3,y,flag = 1)"
   ]
  },
  {
   "cell_type": "code",
   "execution_count": 37,
   "metadata": {
    "colab": {
     "base_uri": "https://localhost:8080/"
    },
    "id": "lgUy-ucfBod1",
    "outputId": "0b53e241-2466-437e-8324-ad421cadae19"
   },
   "outputs": [
    {
     "name": "stdout",
     "output_type": "stream",
     "text": [
      "Gradient Boosting\n",
      "R^2  =  ('Média', 0.9219382152876218, 'std', 0.0035628814628211477, 'erro', 0.001593369029328395)\n",
      "MSE  =  ('Média', 4082.346518148498, ' std', 124.89257988030019, 'erro', 55.85365969953475)\n",
      "\n",
      "Gradient Boosting\n",
      "R^2  =  ('Média', 0.9218495508776036, 'std', 0.0036167469983290875, 'erro', 0.0016174584291364315)\n",
      "MSE  =  ('Média', 4086.768126216854, ' std', 122.26901406646813, 'erro', 54.68036539890014)\n"
     ]
    }
   ],
   "source": [
    "mediaG_h3,stdG_h3,erroG_h3    = modelo_resultado('Gradient Boosting',GradientBoostingRegressor(),df_treinamento_h3,y,flag = 0)\n",
    "print('')\n",
    "mediaG_h3L,stdG_h3L,erroG_h3L = modelo_resultado('Gradient Boosting',GradientBoostingRegressor(),df_treinamento_h3,y,flag = 1)"
   ]
  },
  {
   "cell_type": "code",
   "execution_count": 38,
   "metadata": {
    "colab": {
     "base_uri": "https://localhost:8080/"
    },
    "id": "NFvD-f_ST6lV",
    "outputId": "622cfc4e-2cbc-462c-fa24-ad07f519ba7d"
   },
   "outputs": [
    {
     "name": "stdout",
     "output_type": "stream",
     "text": [
      "Floresta aleatoria\n",
      "R^2  =  ('Média', 0.9093894976497212, 'std', 0.004320412667019177, 'erro', 0.0019321472828612086)\n",
      "MSE  =  ('Média', 4737.763632964312, ' std', 132.2833718432788, 'erro', 59.1589223468906)\n",
      "dados normalizados\n",
      "Floresta aleatoria\n",
      "R^2  =  ('Média', 0.9084506985346762, 'std', 0.005352918331582851, 'erro', 0.002393897853484803)\n",
      "MSE  =  ('Média', 4786.700212381646, ' std', 204.34337583638927, 'erro', 91.38513582439087)\n"
     ]
    }
   ],
   "source": [
    "mediaF_h3,stdF_h3,erroF_h3  = modelo_resultado('Floresta aleatoria',RandomForestRegressor(),df_treinamento_h3,y,flag = 0)\n",
    "print('dados normalizados')\n",
    "mediaF_h3N,stdF_h3N,erroF_h3N  = modelo_resultado('Floresta aleatoria',RandomForestRegressor(),df_treinamento_h3,y,flag = 1)"
   ]
  },
  {
   "cell_type": "markdown",
   "metadata": {
    "id": "Qz3n6tjMRc4q"
   },
   "source": [
    "Pelos resultados apresentados vou usar turnar os parâmetros dos dados da hipose 1"
   ]
  },
  {
   "cell_type": "code",
   "execution_count": 39,
   "metadata": {
    "id": "PqdiYWeq-kY1"
   },
   "outputs": [],
   "source": [
    "from sklearn.model_selection import GridSearchCV"
   ]
  },
  {
   "cell_type": "code",
   "execution_count": 40,
   "metadata": {
    "id": "fkwT7ZBQv4GZ"
   },
   "outputs": [],
   "source": [
    "def result(model,df_treinamento_h1,y,parameters):\n",
    "    gd         = GridSearchCV(estimator=model,param_grid=parameters, cv = 5)\n",
    "    gd_s       = gd.fit(df_treinamento_h1, y)\n",
    "\n",
    "    return gd_s"
   ]
  },
  {
   "cell_type": "code",
   "execution_count": 41,
   "metadata": {
    "id": "yUguhq-7sFR6"
   },
   "outputs": [],
   "source": [
    "# knn\n",
    "parameters = {'n_neighbors':np.arange(5,55,5)}\n",
    "model      = KNeighborsRegressor()\n",
    "gd_K       = result(model,df_treinamento_h1,y,parameters)"
   ]
  },
  {
   "cell_type": "code",
   "execution_count": 42,
   "metadata": {
    "colab": {
     "background_save": true
    },
    "id": "qItMBq3LycsL"
   },
   "outputs": [],
   "source": [
    "# Gradient Boosting\n",
    "parameters = {'learning_rate': [0.01,0.03,0.05,0.07,0.1,0.3,0.5,0.7],\n",
    "              'subsample'    : [0.9, 0.5, 0.2, 0.1],\n",
    "              'n_estimators' : [10,50,100,500],\n",
    "               'max_depth'   : [4,6,8,10]}\n",
    "\n",
    "model = GradientBoostingRegressor()\n",
    "gd_GB = result(model,df_treinamento_h1,y,parameters)"
   ]
  },
  {
   "cell_type": "code",
   "execution_count": 43,
   "metadata": {
    "colab": {
     "background_save": true
    },
    "id": "6cU8NkVByc0B",
    "outputId": "361bb75e-20d2-4a07-c98b-4a9098eded1a"
   },
   "outputs": [],
   "source": [
    "parameters = {'n_estimators': [10,50,100,500],\n",
    "                'max_depth': [4,6,8,10],\n",
    "                'min_samples_split': np.arange(2,5),\n",
    "                'min_samples_leaf': np.arange(1,4)}\n",
    "\n",
    "model = RandomForestRegressor()\n",
    "gd_RF = result(model,df_treinamento_h1,y,parameters)"
   ]
  },
  {
   "cell_type": "markdown",
   "metadata": {},
   "source": [
    "# Melhores hiper parametros de cada classificador"
   ]
  },
  {
   "cell_type": "code",
   "execution_count": 44,
   "metadata": {
    "colab": {
     "background_save": true
    },
    "id": "6F5TcO3nyc3u"
   },
   "outputs": [
    {
     "name": "stdout",
     "output_type": "stream",
     "text": [
      "Floresta Aleatória\n",
      "Resultado: 0.9221941511591462\n"
     ]
    }
   ],
   "source": [
    "print('Floresta Aleatória')\n",
    "gd_RF.best_estimator_\n",
    "print('Resultado:', gd_RF.best_score_)"
   ]
  },
  {
   "cell_type": "code",
   "execution_count": 45,
   "metadata": {},
   "outputs": [
    {
     "name": "stdout",
     "output_type": "stream",
     "text": [
      "KNN\n",
      "Resultado: 0.918143762001609\n"
     ]
    }
   ],
   "source": [
    "print('KNN')\n",
    "gd_K.best_estimator_\n",
    "print('Resultado:', gd_K.best_score_)"
   ]
  },
  {
   "cell_type": "code",
   "execution_count": 50,
   "metadata": {},
   "outputs": [
    {
     "name": "stdout",
     "output_type": "stream",
     "text": [
      "GB\n",
      "Resultado: 0.9224899620084044\n"
     ]
    }
   ],
   "source": [
    "print('GB')\n",
    "gd_GB.best_estimator_\n",
    "print('Resultado:', gd_GB.best_score_)"
   ]
  },
  {
   "cell_type": "markdown",
   "metadata": {},
   "source": [
    "Como o melhor resultado obtido foi pelo  Gradient Boosting, vou utilizar ele para o desafio."
   ]
  },
  {
   "cell_type": "code",
   "execution_count": 61,
   "metadata": {},
   "outputs": [
    {
     "data": {
      "text/html": [
       "<div>\n",
       "<style scoped>\n",
       "    .dataframe tbody tr th:only-of-type {\n",
       "        vertical-align: middle;\n",
       "    }\n",
       "\n",
       "    .dataframe tbody tr th {\n",
       "        vertical-align: top;\n",
       "    }\n",
       "\n",
       "    .dataframe thead th {\n",
       "        text-align: right;\n",
       "    }\n",
       "</style>\n",
       "<table border=\"1\" class=\"dataframe\">\n",
       "  <thead>\n",
       "    <tr style=\"text-align: right;\">\n",
       "      <th></th>\n",
       "      <th>NU_NOTA_CN</th>\n",
       "      <th>NU_NOTA_CH</th>\n",
       "      <th>NU_NOTA_LC</th>\n",
       "      <th>NU_NOTA_REDACAO</th>\n",
       "      <th>media notas</th>\n",
       "      <th>soma  notas</th>\n",
       "      <th>std   notas</th>\n",
       "    </tr>\n",
       "  </thead>\n",
       "  <tbody>\n",
       "    <tr>\n",
       "      <th>0</th>\n",
       "      <td>436.3</td>\n",
       "      <td>495.4</td>\n",
       "      <td>581.2</td>\n",
       "      <td>520.0</td>\n",
       "      <td>508.225</td>\n",
       "      <td>2541.125</td>\n",
       "      <td>758.804289</td>\n",
       "    </tr>\n",
       "    <tr>\n",
       "      <th>1</th>\n",
       "      <td>474.5</td>\n",
       "      <td>544.1</td>\n",
       "      <td>599.0</td>\n",
       "      <td>580.0</td>\n",
       "      <td>549.400</td>\n",
       "      <td>2747.000</td>\n",
       "      <td>819.915926</td>\n",
       "    </tr>\n",
       "    <tr>\n",
       "      <th>2</th>\n",
       "      <td>0.0</td>\n",
       "      <td>0.0</td>\n",
       "      <td>0.0</td>\n",
       "      <td>0.0</td>\n",
       "      <td>0.000</td>\n",
       "      <td>0.000</td>\n",
       "      <td>0.000000</td>\n",
       "    </tr>\n",
       "    <tr>\n",
       "      <th>3</th>\n",
       "      <td>0.0</td>\n",
       "      <td>0.0</td>\n",
       "      <td>0.0</td>\n",
       "      <td>0.0</td>\n",
       "      <td>0.000</td>\n",
       "      <td>0.000</td>\n",
       "      <td>0.000000</td>\n",
       "    </tr>\n",
       "    <tr>\n",
       "      <th>4</th>\n",
       "      <td>0.0</td>\n",
       "      <td>0.0</td>\n",
       "      <td>0.0</td>\n",
       "      <td>0.0</td>\n",
       "      <td>0.000</td>\n",
       "      <td>0.000</td>\n",
       "      <td>0.000000</td>\n",
       "    </tr>\n",
       "    <tr>\n",
       "      <th>5</th>\n",
       "      <td>439.7</td>\n",
       "      <td>583.2</td>\n",
       "      <td>410.9</td>\n",
       "      <td>620.0</td>\n",
       "      <td>513.450</td>\n",
       "      <td>2567.250</td>\n",
       "      <td>768.900972</td>\n",
       "    </tr>\n",
       "    <tr>\n",
       "      <th>6</th>\n",
       "      <td>420.1</td>\n",
       "      <td>604.2</td>\n",
       "      <td>484.5</td>\n",
       "      <td>560.0</td>\n",
       "      <td>517.200</td>\n",
       "      <td>2586.000</td>\n",
       "      <td>773.143986</td>\n",
       "    </tr>\n",
       "    <tr>\n",
       "      <th>7</th>\n",
       "      <td>619.6</td>\n",
       "      <td>625.8</td>\n",
       "      <td>611.2</td>\n",
       "      <td>620.0</td>\n",
       "      <td>619.150</td>\n",
       "      <td>3095.750</td>\n",
       "      <td>922.984108</td>\n",
       "    </tr>\n",
       "    <tr>\n",
       "      <th>8</th>\n",
       "      <td>500.5</td>\n",
       "      <td>555.2</td>\n",
       "      <td>521.8</td>\n",
       "      <td>680.0</td>\n",
       "      <td>564.375</td>\n",
       "      <td>2821.875</td>\n",
       "      <td>843.234630</td>\n",
       "    </tr>\n",
       "    <tr>\n",
       "      <th>9</th>\n",
       "      <td>0.0</td>\n",
       "      <td>0.0</td>\n",
       "      <td>0.0</td>\n",
       "      <td>0.0</td>\n",
       "      <td>0.000</td>\n",
       "      <td>0.000</td>\n",
       "      <td>0.000000</td>\n",
       "    </tr>\n",
       "    <tr>\n",
       "      <th>10</th>\n",
       "      <td>413.4</td>\n",
       "      <td>407.9</td>\n",
       "      <td>533.9</td>\n",
       "      <td>520.0</td>\n",
       "      <td>468.800</td>\n",
       "      <td>2344.000</td>\n",
       "      <td>700.470075</td>\n",
       "    </tr>\n",
       "    <tr>\n",
       "      <th>11</th>\n",
       "      <td>503.4</td>\n",
       "      <td>509.6</td>\n",
       "      <td>490.1</td>\n",
       "      <td>580.0</td>\n",
       "      <td>520.775</td>\n",
       "      <td>2603.875</td>\n",
       "      <td>776.848691</td>\n",
       "    </tr>\n",
       "    <tr>\n",
       "      <th>12</th>\n",
       "      <td>402.6</td>\n",
       "      <td>556.9</td>\n",
       "      <td>599.0</td>\n",
       "      <td>360.0</td>\n",
       "      <td>479.625</td>\n",
       "      <td>2398.125</td>\n",
       "      <td>719.683574</td>\n",
       "    </tr>\n",
       "    <tr>\n",
       "      <th>13</th>\n",
       "      <td>0.0</td>\n",
       "      <td>0.0</td>\n",
       "      <td>0.0</td>\n",
       "      <td>0.0</td>\n",
       "      <td>0.000</td>\n",
       "      <td>0.000</td>\n",
       "      <td>0.000000</td>\n",
       "    </tr>\n",
       "    <tr>\n",
       "      <th>14</th>\n",
       "      <td>477.8</td>\n",
       "      <td>462.9</td>\n",
       "      <td>511.9</td>\n",
       "      <td>360.0</td>\n",
       "      <td>453.150</td>\n",
       "      <td>2265.750</td>\n",
       "      <td>677.097171</td>\n",
       "    </tr>\n",
       "    <tr>\n",
       "      <th>15</th>\n",
       "      <td>0.0</td>\n",
       "      <td>0.0</td>\n",
       "      <td>0.0</td>\n",
       "      <td>0.0</td>\n",
       "      <td>0.000</td>\n",
       "      <td>0.000</td>\n",
       "      <td>0.000000</td>\n",
       "    </tr>\n",
       "    <tr>\n",
       "      <th>16</th>\n",
       "      <td>561.8</td>\n",
       "      <td>640.8</td>\n",
       "      <td>596.5</td>\n",
       "      <td>720.0</td>\n",
       "      <td>629.775</td>\n",
       "      <td>3148.875</td>\n",
       "      <td>940.054130</td>\n",
       "    </tr>\n",
       "    <tr>\n",
       "      <th>17</th>\n",
       "      <td>474.4</td>\n",
       "      <td>540.0</td>\n",
       "      <td>517.4</td>\n",
       "      <td>460.0</td>\n",
       "      <td>497.950</td>\n",
       "      <td>2489.750</td>\n",
       "      <td>742.764806</td>\n",
       "    </tr>\n",
       "    <tr>\n",
       "      <th>18</th>\n",
       "      <td>395.5</td>\n",
       "      <td>425.2</td>\n",
       "      <td>569.5</td>\n",
       "      <td>520.0</td>\n",
       "      <td>477.550</td>\n",
       "      <td>2387.750</td>\n",
       "      <td>714.195300</td>\n",
       "    </tr>\n",
       "    <tr>\n",
       "      <th>19</th>\n",
       "      <td>393.3</td>\n",
       "      <td>429.6</td>\n",
       "      <td>0.0</td>\n",
       "      <td>0.0</td>\n",
       "      <td>205.725</td>\n",
       "      <td>1028.625</td>\n",
       "      <td>349.822246</td>\n",
       "    </tr>\n",
       "    <tr>\n",
       "      <th>20</th>\n",
       "      <td>471.9</td>\n",
       "      <td>628.0</td>\n",
       "      <td>588.2</td>\n",
       "      <td>780.0</td>\n",
       "      <td>617.025</td>\n",
       "      <td>3085.125</td>\n",
       "      <td>924.196779</td>\n",
       "    </tr>\n",
       "    <tr>\n",
       "      <th>21</th>\n",
       "      <td>0.0</td>\n",
       "      <td>0.0</td>\n",
       "      <td>0.0</td>\n",
       "      <td>0.0</td>\n",
       "      <td>0.000</td>\n",
       "      <td>0.000</td>\n",
       "      <td>0.000000</td>\n",
       "    </tr>\n",
       "    <tr>\n",
       "      <th>22</th>\n",
       "      <td>0.0</td>\n",
       "      <td>0.0</td>\n",
       "      <td>0.0</td>\n",
       "      <td>0.0</td>\n",
       "      <td>0.000</td>\n",
       "      <td>0.000</td>\n",
       "      <td>0.000000</td>\n",
       "    </tr>\n",
       "    <tr>\n",
       "      <th>23</th>\n",
       "      <td>0.0</td>\n",
       "      <td>0.0</td>\n",
       "      <td>0.0</td>\n",
       "      <td>0.0</td>\n",
       "      <td>0.000</td>\n",
       "      <td>0.000</td>\n",
       "      <td>0.000000</td>\n",
       "    </tr>\n",
       "    <tr>\n",
       "      <th>24</th>\n",
       "      <td>0.0</td>\n",
       "      <td>0.0</td>\n",
       "      <td>0.0</td>\n",
       "      <td>0.0</td>\n",
       "      <td>0.000</td>\n",
       "      <td>0.000</td>\n",
       "      <td>0.000000</td>\n",
       "    </tr>\n",
       "    <tr>\n",
       "      <th>25</th>\n",
       "      <td>484.8</td>\n",
       "      <td>485.3</td>\n",
       "      <td>559.1</td>\n",
       "      <td>500.0</td>\n",
       "      <td>507.300</td>\n",
       "      <td>2536.500</td>\n",
       "      <td>756.648749</td>\n",
       "    </tr>\n",
       "    <tr>\n",
       "      <th>26</th>\n",
       "      <td>0.0</td>\n",
       "      <td>0.0</td>\n",
       "      <td>0.0</td>\n",
       "      <td>0.0</td>\n",
       "      <td>0.000</td>\n",
       "      <td>0.000</td>\n",
       "      <td>0.000000</td>\n",
       "    </tr>\n",
       "    <tr>\n",
       "      <th>27</th>\n",
       "      <td>473.2</td>\n",
       "      <td>439.1</td>\n",
       "      <td>472.8</td>\n",
       "      <td>400.0</td>\n",
       "      <td>446.275</td>\n",
       "      <td>2231.375</td>\n",
       "      <td>665.720962</td>\n",
       "    </tr>\n",
       "    <tr>\n",
       "      <th>28</th>\n",
       "      <td>390.4</td>\n",
       "      <td>521.3</td>\n",
       "      <td>522.5</td>\n",
       "      <td>440.0</td>\n",
       "      <td>468.550</td>\n",
       "      <td>2342.750</td>\n",
       "      <td>699.976633</td>\n",
       "    </tr>\n",
       "    <tr>\n",
       "      <th>29</th>\n",
       "      <td>475.8</td>\n",
       "      <td>530.0</td>\n",
       "      <td>483.1</td>\n",
       "      <td>520.0</td>\n",
       "      <td>502.225</td>\n",
       "      <td>2511.125</td>\n",
       "      <td>748.912262</td>\n",
       "    </tr>\n",
       "    <tr>\n",
       "      <th>...</th>\n",
       "      <td>...</td>\n",
       "      <td>...</td>\n",
       "      <td>...</td>\n",
       "      <td>...</td>\n",
       "      <td>...</td>\n",
       "      <td>...</td>\n",
       "      <td>...</td>\n",
       "    </tr>\n",
       "    <tr>\n",
       "      <th>13700</th>\n",
       "      <td>467.6</td>\n",
       "      <td>483.2</td>\n",
       "      <td>496.0</td>\n",
       "      <td>340.0</td>\n",
       "      <td>446.700</td>\n",
       "      <td>2233.500</td>\n",
       "      <td>667.848491</td>\n",
       "    </tr>\n",
       "    <tr>\n",
       "      <th>13701</th>\n",
       "      <td>486.4</td>\n",
       "      <td>594.0</td>\n",
       "      <td>593.9</td>\n",
       "      <td>760.0</td>\n",
       "      <td>608.575</td>\n",
       "      <td>3042.875</td>\n",
       "      <td>910.719904</td>\n",
       "    </tr>\n",
       "    <tr>\n",
       "      <th>13702</th>\n",
       "      <td>486.2</td>\n",
       "      <td>534.6</td>\n",
       "      <td>534.7</td>\n",
       "      <td>480.0</td>\n",
       "      <td>508.875</td>\n",
       "      <td>2544.375</td>\n",
       "      <td>758.880041</td>\n",
       "    </tr>\n",
       "    <tr>\n",
       "      <th>13703</th>\n",
       "      <td>394.5</td>\n",
       "      <td>482.2</td>\n",
       "      <td>468.0</td>\n",
       "      <td>340.0</td>\n",
       "      <td>421.175</td>\n",
       "      <td>2105.875</td>\n",
       "      <td>629.602517</td>\n",
       "    </tr>\n",
       "    <tr>\n",
       "      <th>13704</th>\n",
       "      <td>419.6</td>\n",
       "      <td>578.3</td>\n",
       "      <td>543.6</td>\n",
       "      <td>540.0</td>\n",
       "      <td>520.375</td>\n",
       "      <td>2601.875</td>\n",
       "      <td>777.278442</td>\n",
       "    </tr>\n",
       "    <tr>\n",
       "      <th>13705</th>\n",
       "      <td>424.6</td>\n",
       "      <td>532.0</td>\n",
       "      <td>527.2</td>\n",
       "      <td>600.0</td>\n",
       "      <td>520.950</td>\n",
       "      <td>2604.750</td>\n",
       "      <td>778.268601</td>\n",
       "    </tr>\n",
       "    <tr>\n",
       "      <th>13706</th>\n",
       "      <td>448.2</td>\n",
       "      <td>587.4</td>\n",
       "      <td>546.5</td>\n",
       "      <td>360.0</td>\n",
       "      <td>485.525</td>\n",
       "      <td>2427.625</td>\n",
       "      <td>727.366615</td>\n",
       "    </tr>\n",
       "    <tr>\n",
       "      <th>13707</th>\n",
       "      <td>588.5</td>\n",
       "      <td>639.1</td>\n",
       "      <td>584.4</td>\n",
       "      <td>700.0</td>\n",
       "      <td>628.000</td>\n",
       "      <td>3140.000</td>\n",
       "      <td>936.947326</td>\n",
       "    </tr>\n",
       "    <tr>\n",
       "      <th>13708</th>\n",
       "      <td>0.0</td>\n",
       "      <td>0.0</td>\n",
       "      <td>0.0</td>\n",
       "      <td>0.0</td>\n",
       "      <td>0.000</td>\n",
       "      <td>0.000</td>\n",
       "      <td>0.000000</td>\n",
       "    </tr>\n",
       "    <tr>\n",
       "      <th>13709</th>\n",
       "      <td>405.7</td>\n",
       "      <td>604.0</td>\n",
       "      <td>0.0</td>\n",
       "      <td>0.0</td>\n",
       "      <td>252.425</td>\n",
       "      <td>1262.125</td>\n",
       "      <td>432.842037</td>\n",
       "    </tr>\n",
       "    <tr>\n",
       "      <th>13710</th>\n",
       "      <td>603.5</td>\n",
       "      <td>646.8</td>\n",
       "      <td>628.3</td>\n",
       "      <td>760.0</td>\n",
       "      <td>659.650</td>\n",
       "      <td>3298.250</td>\n",
       "      <td>984.565261</td>\n",
       "    </tr>\n",
       "    <tr>\n",
       "      <th>13711</th>\n",
       "      <td>0.0</td>\n",
       "      <td>0.0</td>\n",
       "      <td>0.0</td>\n",
       "      <td>0.0</td>\n",
       "      <td>0.000</td>\n",
       "      <td>0.000</td>\n",
       "      <td>0.000000</td>\n",
       "    </tr>\n",
       "    <tr>\n",
       "      <th>13712</th>\n",
       "      <td>722.1</td>\n",
       "      <td>694.7</td>\n",
       "      <td>645.0</td>\n",
       "      <td>680.0</td>\n",
       "      <td>685.450</td>\n",
       "      <td>3427.250</td>\n",
       "      <td>1022.060886</td>\n",
       "    </tr>\n",
       "    <tr>\n",
       "      <th>13713</th>\n",
       "      <td>0.0</td>\n",
       "      <td>0.0</td>\n",
       "      <td>0.0</td>\n",
       "      <td>0.0</td>\n",
       "      <td>0.000</td>\n",
       "      <td>0.000</td>\n",
       "      <td>0.000000</td>\n",
       "    </tr>\n",
       "    <tr>\n",
       "      <th>13714</th>\n",
       "      <td>660.0</td>\n",
       "      <td>640.2</td>\n",
       "      <td>627.1</td>\n",
       "      <td>700.0</td>\n",
       "      <td>656.825</td>\n",
       "      <td>3284.125</td>\n",
       "      <td>979.395097</td>\n",
       "    </tr>\n",
       "    <tr>\n",
       "      <th>13715</th>\n",
       "      <td>0.0</td>\n",
       "      <td>0.0</td>\n",
       "      <td>0.0</td>\n",
       "      <td>0.0</td>\n",
       "      <td>0.000</td>\n",
       "      <td>0.000</td>\n",
       "      <td>0.000000</td>\n",
       "    </tr>\n",
       "    <tr>\n",
       "      <th>13716</th>\n",
       "      <td>0.0</td>\n",
       "      <td>0.0</td>\n",
       "      <td>0.0</td>\n",
       "      <td>0.0</td>\n",
       "      <td>0.000</td>\n",
       "      <td>0.000</td>\n",
       "      <td>0.000000</td>\n",
       "    </tr>\n",
       "    <tr>\n",
       "      <th>13717</th>\n",
       "      <td>474.4</td>\n",
       "      <td>441.9</td>\n",
       "      <td>515.2</td>\n",
       "      <td>0.0</td>\n",
       "      <td>357.875</td>\n",
       "      <td>1789.375</td>\n",
       "      <td>559.929185</td>\n",
       "    </tr>\n",
       "    <tr>\n",
       "      <th>13718</th>\n",
       "      <td>507.2</td>\n",
       "      <td>593.1</td>\n",
       "      <td>521.3</td>\n",
       "      <td>520.0</td>\n",
       "      <td>535.400</td>\n",
       "      <td>2677.000</td>\n",
       "      <td>798.603222</td>\n",
       "    </tr>\n",
       "    <tr>\n",
       "      <th>13719</th>\n",
       "      <td>462.4</td>\n",
       "      <td>542.5</td>\n",
       "      <td>579.5</td>\n",
       "      <td>520.0</td>\n",
       "      <td>526.100</td>\n",
       "      <td>2630.500</td>\n",
       "      <td>785.029888</td>\n",
       "    </tr>\n",
       "    <tr>\n",
       "      <th>13720</th>\n",
       "      <td>448.7</td>\n",
       "      <td>596.8</td>\n",
       "      <td>537.1</td>\n",
       "      <td>640.0</td>\n",
       "      <td>555.650</td>\n",
       "      <td>2778.250</td>\n",
       "      <td>830.383073</td>\n",
       "    </tr>\n",
       "    <tr>\n",
       "      <th>13721</th>\n",
       "      <td>425.5</td>\n",
       "      <td>447.8</td>\n",
       "      <td>544.8</td>\n",
       "      <td>400.0</td>\n",
       "      <td>454.525</td>\n",
       "      <td>2272.625</td>\n",
       "      <td>679.041388</td>\n",
       "    </tr>\n",
       "    <tr>\n",
       "      <th>13722</th>\n",
       "      <td>0.0</td>\n",
       "      <td>0.0</td>\n",
       "      <td>0.0</td>\n",
       "      <td>0.0</td>\n",
       "      <td>0.000</td>\n",
       "      <td>0.000</td>\n",
       "      <td>0.000000</td>\n",
       "    </tr>\n",
       "    <tr>\n",
       "      <th>13723</th>\n",
       "      <td>518.7</td>\n",
       "      <td>571.0</td>\n",
       "      <td>548.4</td>\n",
       "      <td>580.0</td>\n",
       "      <td>554.525</td>\n",
       "      <td>2772.625</td>\n",
       "      <td>826.862983</td>\n",
       "    </tr>\n",
       "    <tr>\n",
       "      <th>13724</th>\n",
       "      <td>515.6</td>\n",
       "      <td>556.7</td>\n",
       "      <td>459.0</td>\n",
       "      <td>620.0</td>\n",
       "      <td>537.825</td>\n",
       "      <td>2689.125</td>\n",
       "      <td>803.176963</td>\n",
       "    </tr>\n",
       "    <tr>\n",
       "      <th>13725</th>\n",
       "      <td>438.2</td>\n",
       "      <td>419.7</td>\n",
       "      <td>394.5</td>\n",
       "      <td>440.0</td>\n",
       "      <td>423.100</td>\n",
       "      <td>2115.500</td>\n",
       "      <td>630.897677</td>\n",
       "    </tr>\n",
       "    <tr>\n",
       "      <th>13726</th>\n",
       "      <td>423.8</td>\n",
       "      <td>557.9</td>\n",
       "      <td>533.0</td>\n",
       "      <td>560.0</td>\n",
       "      <td>518.675</td>\n",
       "      <td>2593.375</td>\n",
       "      <td>774.536015</td>\n",
       "    </tr>\n",
       "    <tr>\n",
       "      <th>13727</th>\n",
       "      <td>460.5</td>\n",
       "      <td>528.9</td>\n",
       "      <td>569.3</td>\n",
       "      <td>600.0</td>\n",
       "      <td>539.675</td>\n",
       "      <td>2698.375</td>\n",
       "      <td>805.628423</td>\n",
       "    </tr>\n",
       "    <tr>\n",
       "      <th>13728</th>\n",
       "      <td>422.5</td>\n",
       "      <td>621.7</td>\n",
       "      <td>569.0</td>\n",
       "      <td>460.0</td>\n",
       "      <td>518.300</td>\n",
       "      <td>2591.500</td>\n",
       "      <td>775.417857</td>\n",
       "    </tr>\n",
       "    <tr>\n",
       "      <th>13729</th>\n",
       "      <td>488.7</td>\n",
       "      <td>575.3</td>\n",
       "      <td>565.9</td>\n",
       "      <td>520.0</td>\n",
       "      <td>537.475</td>\n",
       "      <td>2687.375</td>\n",
       "      <td>801.732301</td>\n",
       "    </tr>\n",
       "  </tbody>\n",
       "</table>\n",
       "<p>13730 rows × 7 columns</p>\n",
       "</div>"
      ],
      "text/plain": [
       "       NU_NOTA_CN  NU_NOTA_CH  NU_NOTA_LC  NU_NOTA_REDACAO  media notas  \\\n",
       "0           436.3       495.4       581.2            520.0      508.225   \n",
       "1           474.5       544.1       599.0            580.0      549.400   \n",
       "2             0.0         0.0         0.0              0.0        0.000   \n",
       "3             0.0         0.0         0.0              0.0        0.000   \n",
       "4             0.0         0.0         0.0              0.0        0.000   \n",
       "5           439.7       583.2       410.9            620.0      513.450   \n",
       "6           420.1       604.2       484.5            560.0      517.200   \n",
       "7           619.6       625.8       611.2            620.0      619.150   \n",
       "8           500.5       555.2       521.8            680.0      564.375   \n",
       "9             0.0         0.0         0.0              0.0        0.000   \n",
       "10          413.4       407.9       533.9            520.0      468.800   \n",
       "11          503.4       509.6       490.1            580.0      520.775   \n",
       "12          402.6       556.9       599.0            360.0      479.625   \n",
       "13            0.0         0.0         0.0              0.0        0.000   \n",
       "14          477.8       462.9       511.9            360.0      453.150   \n",
       "15            0.0         0.0         0.0              0.0        0.000   \n",
       "16          561.8       640.8       596.5            720.0      629.775   \n",
       "17          474.4       540.0       517.4            460.0      497.950   \n",
       "18          395.5       425.2       569.5            520.0      477.550   \n",
       "19          393.3       429.6         0.0              0.0      205.725   \n",
       "20          471.9       628.0       588.2            780.0      617.025   \n",
       "21            0.0         0.0         0.0              0.0        0.000   \n",
       "22            0.0         0.0         0.0              0.0        0.000   \n",
       "23            0.0         0.0         0.0              0.0        0.000   \n",
       "24            0.0         0.0         0.0              0.0        0.000   \n",
       "25          484.8       485.3       559.1            500.0      507.300   \n",
       "26            0.0         0.0         0.0              0.0        0.000   \n",
       "27          473.2       439.1       472.8            400.0      446.275   \n",
       "28          390.4       521.3       522.5            440.0      468.550   \n",
       "29          475.8       530.0       483.1            520.0      502.225   \n",
       "...           ...         ...         ...              ...          ...   \n",
       "13700       467.6       483.2       496.0            340.0      446.700   \n",
       "13701       486.4       594.0       593.9            760.0      608.575   \n",
       "13702       486.2       534.6       534.7            480.0      508.875   \n",
       "13703       394.5       482.2       468.0            340.0      421.175   \n",
       "13704       419.6       578.3       543.6            540.0      520.375   \n",
       "13705       424.6       532.0       527.2            600.0      520.950   \n",
       "13706       448.2       587.4       546.5            360.0      485.525   \n",
       "13707       588.5       639.1       584.4            700.0      628.000   \n",
       "13708         0.0         0.0         0.0              0.0        0.000   \n",
       "13709       405.7       604.0         0.0              0.0      252.425   \n",
       "13710       603.5       646.8       628.3            760.0      659.650   \n",
       "13711         0.0         0.0         0.0              0.0        0.000   \n",
       "13712       722.1       694.7       645.0            680.0      685.450   \n",
       "13713         0.0         0.0         0.0              0.0        0.000   \n",
       "13714       660.0       640.2       627.1            700.0      656.825   \n",
       "13715         0.0         0.0         0.0              0.0        0.000   \n",
       "13716         0.0         0.0         0.0              0.0        0.000   \n",
       "13717       474.4       441.9       515.2              0.0      357.875   \n",
       "13718       507.2       593.1       521.3            520.0      535.400   \n",
       "13719       462.4       542.5       579.5            520.0      526.100   \n",
       "13720       448.7       596.8       537.1            640.0      555.650   \n",
       "13721       425.5       447.8       544.8            400.0      454.525   \n",
       "13722         0.0         0.0         0.0              0.0        0.000   \n",
       "13723       518.7       571.0       548.4            580.0      554.525   \n",
       "13724       515.6       556.7       459.0            620.0      537.825   \n",
       "13725       438.2       419.7       394.5            440.0      423.100   \n",
       "13726       423.8       557.9       533.0            560.0      518.675   \n",
       "13727       460.5       528.9       569.3            600.0      539.675   \n",
       "13728       422.5       621.7       569.0            460.0      518.300   \n",
       "13729       488.7       575.3       565.9            520.0      537.475   \n",
       "\n",
       "       soma  notas  std   notas  \n",
       "0         2541.125   758.804289  \n",
       "1         2747.000   819.915926  \n",
       "2            0.000     0.000000  \n",
       "3            0.000     0.000000  \n",
       "4            0.000     0.000000  \n",
       "5         2567.250   768.900972  \n",
       "6         2586.000   773.143986  \n",
       "7         3095.750   922.984108  \n",
       "8         2821.875   843.234630  \n",
       "9            0.000     0.000000  \n",
       "10        2344.000   700.470075  \n",
       "11        2603.875   776.848691  \n",
       "12        2398.125   719.683574  \n",
       "13           0.000     0.000000  \n",
       "14        2265.750   677.097171  \n",
       "15           0.000     0.000000  \n",
       "16        3148.875   940.054130  \n",
       "17        2489.750   742.764806  \n",
       "18        2387.750   714.195300  \n",
       "19        1028.625   349.822246  \n",
       "20        3085.125   924.196779  \n",
       "21           0.000     0.000000  \n",
       "22           0.000     0.000000  \n",
       "23           0.000     0.000000  \n",
       "24           0.000     0.000000  \n",
       "25        2536.500   756.648749  \n",
       "26           0.000     0.000000  \n",
       "27        2231.375   665.720962  \n",
       "28        2342.750   699.976633  \n",
       "29        2511.125   748.912262  \n",
       "...            ...          ...  \n",
       "13700     2233.500   667.848491  \n",
       "13701     3042.875   910.719904  \n",
       "13702     2544.375   758.880041  \n",
       "13703     2105.875   629.602517  \n",
       "13704     2601.875   777.278442  \n",
       "13705     2604.750   778.268601  \n",
       "13706     2427.625   727.366615  \n",
       "13707     3140.000   936.947326  \n",
       "13708        0.000     0.000000  \n",
       "13709     1262.125   432.842037  \n",
       "13710     3298.250   984.565261  \n",
       "13711        0.000     0.000000  \n",
       "13712     3427.250  1022.060886  \n",
       "13713        0.000     0.000000  \n",
       "13714     3284.125   979.395097  \n",
       "13715        0.000     0.000000  \n",
       "13716        0.000     0.000000  \n",
       "13717     1789.375   559.929185  \n",
       "13718     2677.000   798.603222  \n",
       "13719     2630.500   785.029888  \n",
       "13720     2778.250   830.383073  \n",
       "13721     2272.625   679.041388  \n",
       "13722        0.000     0.000000  \n",
       "13723     2772.625   826.862983  \n",
       "13724     2689.125   803.176963  \n",
       "13725     2115.500   630.897677  \n",
       "13726     2593.375   774.536015  \n",
       "13727     2698.375   805.628423  \n",
       "13728     2591.500   775.417857  \n",
       "13729     2687.375   801.732301  \n",
       "\n",
       "[13730 rows x 7 columns]"
      ]
     },
     "execution_count": 61,
     "metadata": {},
     "output_type": "execute_result"
    }
   ],
   "source": [
    "df_treinamento_h1"
   ]
  },
  {
   "cell_type": "code",
   "execution_count": 50,
   "metadata": {},
   "outputs": [
    {
     "ename": "ValueError",
     "evalue": "Number of features of the model must match the input. Model n_features is 6 and input n_features is 4 ",
     "output_type": "error",
     "traceback": [
      "\u001b[0;31m---------------------------------------------------------------------------\u001b[0m",
      "\u001b[0;31mValueError\u001b[0m                                Traceback (most recent call last)",
      "\u001b[0;32m<ipython-input-50-ed1ca2371aa1>\u001b[0m in \u001b[0;36m<module>\u001b[0;34m()\u001b[0m\n\u001b[1;32m      1\u001b[0m \u001b[0mmd\u001b[0m                    \u001b[0;34m=\u001b[0m \u001b[0mmodel\u001b[0m\u001b[0;34m.\u001b[0m\u001b[0mfit\u001b[0m\u001b[0;34m(\u001b[0m\u001b[0mdf_treinamento_h1\u001b[0m\u001b[0;34m,\u001b[0m \u001b[0my\u001b[0m\u001b[0;34m)\u001b[0m\u001b[0;34m\u001b[0m\u001b[0m\n\u001b[0;32m----> 2\u001b[0;31m \u001b[0my_pred\u001b[0m                \u001b[0;34m=\u001b[0m \u001b[0mmd\u001b[0m\u001b[0;34m.\u001b[0m\u001b[0mpredict\u001b[0m\u001b[0;34m(\u001b[0m\u001b[0mdf_teste_h1\u001b[0m\u001b[0;34m)\u001b[0m\u001b[0;34m\u001b[0m\u001b[0m\n\u001b[0m",
      "\u001b[0;32m/usr/local/lib/python3.5/dist-packages/sklearn/ensemble/gradient_boosting.py\u001b[0m in \u001b[0;36mpredict\u001b[0;34m(self, X)\u001b[0m\n\u001b[1;32m   1890\u001b[0m         \"\"\"\n\u001b[1;32m   1891\u001b[0m         \u001b[0mX\u001b[0m \u001b[0;34m=\u001b[0m \u001b[0mcheck_array\u001b[0m\u001b[0;34m(\u001b[0m\u001b[0mX\u001b[0m\u001b[0;34m,\u001b[0m \u001b[0mdtype\u001b[0m\u001b[0;34m=\u001b[0m\u001b[0mDTYPE\u001b[0m\u001b[0;34m,\u001b[0m \u001b[0morder\u001b[0m\u001b[0;34m=\u001b[0m\u001b[0;34m\"C\"\u001b[0m\u001b[0;34m,\u001b[0m  \u001b[0maccept_sparse\u001b[0m\u001b[0;34m=\u001b[0m\u001b[0;34m'csr'\u001b[0m\u001b[0;34m)\u001b[0m\u001b[0;34m\u001b[0m\u001b[0m\n\u001b[0;32m-> 1892\u001b[0;31m         \u001b[0;32mreturn\u001b[0m \u001b[0mself\u001b[0m\u001b[0;34m.\u001b[0m\u001b[0m_decision_function\u001b[0m\u001b[0;34m(\u001b[0m\u001b[0mX\u001b[0m\u001b[0;34m)\u001b[0m\u001b[0;34m.\u001b[0m\u001b[0mravel\u001b[0m\u001b[0;34m(\u001b[0m\u001b[0;34m)\u001b[0m\u001b[0;34m\u001b[0m\u001b[0m\n\u001b[0m\u001b[1;32m   1893\u001b[0m \u001b[0;34m\u001b[0m\u001b[0m\n\u001b[1;32m   1894\u001b[0m     \u001b[0;32mdef\u001b[0m \u001b[0mstaged_predict\u001b[0m\u001b[0;34m(\u001b[0m\u001b[0mself\u001b[0m\u001b[0;34m,\u001b[0m \u001b[0mX\u001b[0m\u001b[0;34m)\u001b[0m\u001b[0;34m:\u001b[0m\u001b[0;34m\u001b[0m\u001b[0m\n",
      "\u001b[0;32m/usr/local/lib/python3.5/dist-packages/sklearn/ensemble/gradient_boosting.py\u001b[0m in \u001b[0;36m_decision_function\u001b[0;34m(self, X)\u001b[0m\n\u001b[1;32m   1128\u001b[0m         \u001b[0;31m# for use in inner loop, not raveling the output in single-class case,\u001b[0m\u001b[0;34m\u001b[0m\u001b[0;34m\u001b[0m\u001b[0m\n\u001b[1;32m   1129\u001b[0m         \u001b[0;31m# not doing input validation.\u001b[0m\u001b[0;34m\u001b[0m\u001b[0;34m\u001b[0m\u001b[0m\n\u001b[0;32m-> 1130\u001b[0;31m         \u001b[0mscore\u001b[0m \u001b[0;34m=\u001b[0m \u001b[0mself\u001b[0m\u001b[0;34m.\u001b[0m\u001b[0m_init_decision_function\u001b[0m\u001b[0;34m(\u001b[0m\u001b[0mX\u001b[0m\u001b[0;34m)\u001b[0m\u001b[0;34m\u001b[0m\u001b[0m\n\u001b[0m\u001b[1;32m   1131\u001b[0m         \u001b[0mpredict_stages\u001b[0m\u001b[0;34m(\u001b[0m\u001b[0mself\u001b[0m\u001b[0;34m.\u001b[0m\u001b[0mestimators_\u001b[0m\u001b[0;34m,\u001b[0m \u001b[0mX\u001b[0m\u001b[0;34m,\u001b[0m \u001b[0mself\u001b[0m\u001b[0;34m.\u001b[0m\u001b[0mlearning_rate\u001b[0m\u001b[0;34m,\u001b[0m \u001b[0mscore\u001b[0m\u001b[0;34m)\u001b[0m\u001b[0;34m\u001b[0m\u001b[0m\n\u001b[1;32m   1132\u001b[0m         \u001b[0;32mreturn\u001b[0m \u001b[0mscore\u001b[0m\u001b[0;34m\u001b[0m\u001b[0m\n",
      "\u001b[0;32m/usr/local/lib/python3.5/dist-packages/sklearn/ensemble/gradient_boosting.py\u001b[0m in \u001b[0;36m_init_decision_function\u001b[0;34m(self, X)\u001b[0m\n\u001b[1;32m   1118\u001b[0m         \u001b[0;34m\"\"\"Check input and compute prediction of ``init``. \"\"\"\u001b[0m\u001b[0;34m\u001b[0m\u001b[0m\n\u001b[1;32m   1119\u001b[0m         \u001b[0mself\u001b[0m\u001b[0;34m.\u001b[0m\u001b[0m_check_initialized\u001b[0m\u001b[0;34m(\u001b[0m\u001b[0;34m)\u001b[0m\u001b[0;34m\u001b[0m\u001b[0m\n\u001b[0;32m-> 1120\u001b[0;31m         \u001b[0mX\u001b[0m \u001b[0;34m=\u001b[0m \u001b[0mself\u001b[0m\u001b[0;34m.\u001b[0m\u001b[0mestimators_\u001b[0m\u001b[0;34m[\u001b[0m\u001b[0;36m0\u001b[0m\u001b[0;34m,\u001b[0m \u001b[0;36m0\u001b[0m\u001b[0;34m]\u001b[0m\u001b[0;34m.\u001b[0m\u001b[0m_validate_X_predict\u001b[0m\u001b[0;34m(\u001b[0m\u001b[0mX\u001b[0m\u001b[0;34m,\u001b[0m \u001b[0mcheck_input\u001b[0m\u001b[0;34m=\u001b[0m\u001b[0;32mTrue\u001b[0m\u001b[0;34m)\u001b[0m\u001b[0;34m\u001b[0m\u001b[0m\n\u001b[0m\u001b[1;32m   1121\u001b[0m         \u001b[0;32mif\u001b[0m \u001b[0mX\u001b[0m\u001b[0;34m.\u001b[0m\u001b[0mshape\u001b[0m\u001b[0;34m[\u001b[0m\u001b[0;36m1\u001b[0m\u001b[0;34m]\u001b[0m \u001b[0;34m!=\u001b[0m \u001b[0mself\u001b[0m\u001b[0;34m.\u001b[0m\u001b[0mn_features_\u001b[0m\u001b[0;34m:\u001b[0m\u001b[0;34m\u001b[0m\u001b[0m\n\u001b[1;32m   1122\u001b[0m             raise ValueError(\"X.shape[1] should be {0:d}, not {1:d}.\".format(\n",
      "\u001b[0;32m/usr/local/lib/python3.5/dist-packages/sklearn/tree/tree.py\u001b[0m in \u001b[0;36m_validate_X_predict\u001b[0;34m(self, X, check_input)\u001b[0m\n\u001b[1;32m    382\u001b[0m                              \u001b[0;34m\"match the input. Model n_features is %s and \"\u001b[0m\u001b[0;34m\u001b[0m\u001b[0m\n\u001b[1;32m    383\u001b[0m                              \u001b[0;34m\"input n_features is %s \"\u001b[0m\u001b[0;34m\u001b[0m\u001b[0m\n\u001b[0;32m--> 384\u001b[0;31m                              % (self.n_features_, n_features))\n\u001b[0m\u001b[1;32m    385\u001b[0m \u001b[0;34m\u001b[0m\u001b[0m\n\u001b[1;32m    386\u001b[0m         \u001b[0;32mreturn\u001b[0m \u001b[0mX\u001b[0m\u001b[0;34m\u001b[0m\u001b[0m\n",
      "\u001b[0;31mValueError\u001b[0m: Number of features of the model must match the input. Model n_features is 6 and input n_features is 4 "
     ]
    }
   ],
   "source": [
    "md                    = model.fit(df_treinamento_h1, y)\n",
    "y_pred                = md.predict(df_teste_h1)"
   ]
  },
  {
   "cell_type": "markdown",
   "metadata": {
    "id": "nqmApXC9xqDC"
   },
   "source": []
  },
  {
   "cell_type": "code",
   "execution_count": null,
   "metadata": {
    "colab": {
     "base_uri": "https://localhost:8080/"
    },
    "id": "lKT3GhY8uVqe",
    "outputId": "96983cc7-c3cb-4be6-ade9-e945dd72029f"
   },
   "outputs": [],
   "source": [
    "df_teste_h1.head()"
   ]
  },
  {
   "cell_type": "code",
   "execution_count": null,
   "metadata": {
    "colab": {
     "base_uri": "https://localhost:8080/"
    },
    "id": "_g6xwe62uVtQ",
    "outputId": "234412f8-ce00-4401-e162-feb2ee90a0ad"
   },
   "outputs": [],
   "source": [
    "gd.best_score_"
   ]
  },
  {
   "cell_type": "code",
   "execution_count": null,
   "metadata": {
    "colab": {
     "base_uri": "https://localhost:8080/"
    },
    "id": "j3MUfgbruVwm",
    "outputId": "673035d5-cff4-4828-92a3-8f70e4974d92"
   },
   "outputs": [],
   "source": [
    "gd.cv_results_ ['split0_test_score']"
   ]
  },
  {
   "cell_type": "code",
   "execution_count": null,
   "metadata": {
    "colab": {
     "base_uri": "https://localhost:8080/"
    },
    "id": "HCnTIEzDxZCq",
    "outputId": "f15c5690-9cc7-41d7-a204-6cb3a80c5701"
   },
   "outputs": [],
   "source": [
    "gd.cv_results_"
   ]
  },
  {
   "cell_type": "code",
   "execution_count": null,
   "metadata": {
    "id": "Solg-hPX-kb1"
   },
   "outputs": [],
   "source": [
    "GridSearchCV(estimator=KNeighborsRegressor(),\n",
    "             param_grid={'n_neighbors': np.arange(5,55,5)})"
   ]
  },
  {
   "cell_type": "code",
   "execution_count": null,
   "metadata": {
    "id": "S4_efKzB-ke-"
   },
   "outputs": [],
   "source": []
  },
  {
   "cell_type": "code",
   "execution_count": null,
   "metadata": {
    "id": "GbPX1b6ut54t"
   },
   "outputs": [],
   "source": [
    "modelo = []"
   ]
  },
  {
   "cell_type": "code",
   "execution_count": null,
   "metadata": {
    "id": "slkX0wDtt57y"
   },
   "outputs": [],
   "source": [
    "modelo.append(['Regressão Linear  ',LinearRegression()])\n",
    "modelo.append(['KNN               ',KNeighborsRegressor()])\n",
    "modelo.append(['Gradient Boosting ',GradientBoostingRegressor()])\n",
    "modelo.append(['Passive Aggressive',PassiveAggressiveRegressor(max_iter=10000)])\n",
    "modelo.append(['Floresta aleatoria',RandomForestRegressor()])"
   ]
  },
  {
   "cell_type": "code",
   "execution_count": null,
   "metadata": {
    "colab": {
     "base_uri": "https://localhost:8080/"
    },
    "id": "UomMh6KjuecO",
    "outputId": "2ad7bca1-fd3e-4560-9331-d4a9188efda0"
   },
   "outputs": [],
   "source": [
    "validaPerformanceModelos(modelo, df_treinamento_h1, y)"
   ]
  },
  {
   "cell_type": "code",
   "execution_count": null,
   "metadata": {
    "colab": {
     "base_uri": "https://localhost:8080/",
     "height": 167
    },
    "id": "blM3DAa41XgX",
    "outputId": "8f023586-d2f1-499c-e343-ec83bd01a6b4"
   },
   "outputs": [],
   "source": [
    "X"
   ]
  },
  {
   "cell_type": "code",
   "execution_count": null,
   "metadata": {
    "id": "lKqj5I3V3beb"
   },
   "outputs": [],
   "source": []
  }
 ],
 "metadata": {
  "colab": {
   "collapsed_sections": [
    "Zvpln4PDMPbF",
    "wbpOR1OPMkPt",
    "tP8lNrq5iv62",
    "TuQEdIAXF9Q_"
   ],
   "name": "est_enem.ipynb",
   "provenance": []
  },
  "kernelspec": {
   "display_name": "Python 3",
   "language": "python",
   "name": "python3"
  },
  "language_info": {
   "codemirror_mode": {
    "name": "ipython",
    "version": 3
   },
   "file_extension": ".py",
   "mimetype": "text/x-python",
   "name": "python",
   "nbconvert_exporter": "python",
   "pygments_lexer": "ipython3",
   "version": "3.5.2"
  }
 },
 "nbformat": 4,
 "nbformat_minor": 1
}
